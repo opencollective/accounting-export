{
 "cells": [
  {
   "cell_type": "code",
   "execution_count": null,
   "metadata": {},
   "outputs": [],
   "source": [
    "try:\n",
    "  df_platform\n",
    "  print(\"Data already loaded\")\n",
    "except NameError:\n",
    "  print(\"Loading data...\")\n",
    "  %run data.ipynb\n"
   ]
  },
  {
   "cell_type": "code",
   "execution_count": null,
   "metadata": {},
   "outputs": [],
   "source": [
    "import pandas as pd\n",
    "\n",
    "ignored_types = ['Reversal of General Account Hold', 'General Currency Conversion', 'Hold on Available Balance', 'User Initiated Currency Conversion', 'Hold on Balance for Dispute Investigation', 'Cancellation of Hold for Dispute Resolution']\n",
    "df_paypal_reconciliation = df_paypal[~df_paypal['Type'].isin(ignored_types)].copy()\n",
    "df_paypal_reconciliation.head()"
   ]
  },
  {
   "cell_type": "code",
   "execution_count": null,
   "metadata": {},
   "outputs": [],
   "source": [
    "df_platform_paypal_related = df_platform[(df_platform['paymentMethod.service'] == 'PAYPAL') | (df_platform['payoutMethod.type'] == 'PAYPAL')]"
   ]
  },
  {
   "cell_type": "code",
   "execution_count": null,
   "metadata": {},
   "outputs": [],
   "source": [
    "df_platform_paypal = pd.merge(df_platform_paypal_related.dropna(subset=['merchantId']), df_paypal_reconciliation, left_on='merchantId', right_on='Transaction ID', how='left').dropna(subset=['Transaction ID'])\n",
    "print('Successfully merged {} rows out of {}'.format(len(df_platform_paypal), len(df_platform_paypal_related)))\n",
    "# First Pass, joining with IDs\n",
    "df_left_platform = df_platform_paypal_related[~df_platform_paypal_related['id'].isin(df_platform_paypal['id'])]\n",
    "df_left_paypal = df_paypal_reconciliation[~df_paypal_reconciliation['Transaction ID'].isin(df_platform_paypal['Transaction ID'])]\n",
    "\n",
    "# Second Pass, joining with dates and amounts\n",
    "from utils import matchByDateAndValue\n",
    "df_second_pass_paypal = matchByDateAndValue(df_left_platform, ['createdAt', 'amountInHostCurrency.value'], df_left_paypal, ['Datetime', 'Gross'], '2 hours', 0.05).dropna(subset=['df2key'])\n",
    "df_platform_paypal = pd.concat([df_platform_paypal, df_second_pass_paypal.loc[:, df_second_pass_paypal.columns!='df2key']], ignore_index=True)\n",
    "df_left_paypal = df_paypal_reconciliation[~df_paypal_reconciliation['Transaction ID'].isin(df_platform_paypal['Transaction ID'])]\n",
    "df_left_paypal = df_left_paypal[~(df_left_paypal['Transaction ID'].isin(df_platform_paypal['Reference Txn ID']))]\n",
    "print('Successfully merged {} rows out of {} from Value and Date'.format(len(df_second_pass_paypal), len(df_platform_paypal_related)))\n",
    "\n",
    "\n",
    "print(f\"Platform transactions that have a corresponding PayPal transaction: {len(df_platform_paypal)}\")\n",
    "print(f\"Platform transactions without a corresponding PayPal transaction: {len(df_left_platform)}\")\n",
    "print(f\"Percentage of Platform transactions that have a corresponding PayPal transaction: {round(len(df_platform_paypal)/len(df_platform_paypal_related)*100, 2)}%\")\n",
    "print(f\"PayPal transactions without a corresponding platform transaction: {len(df_left_paypal)}\")\n",
    "print(f\"Percentage of PayPal transactions that have a corresponding Platform transaction: {round(len(df_platform_paypal)/len(df_paypal_reconciliation)*100, 2)}%\")\n"
   ]
  },
  {
   "cell_type": "code",
   "execution_count": null,
   "metadata": {},
   "outputs": [],
   "source": [
    "df_left_paypal['Datetime'].value_counts()"
   ]
  },
  {
   "cell_type": "code",
   "execution_count": null,
   "metadata": {},
   "outputs": [],
   "source": [
    "# merged_df[['id', 'Transaction ID']].to_csv('platform_paypal_reconciliation.csv', index=False)"
   ]
  },
  {
   "cell_type": "code",
   "execution_count": null,
   "metadata": {},
   "outputs": [],
   "source": [
    "pd.set_option('display.max_rows', None)\n",
    "print(df_left_paypal.value_counts('Balance Impact'))\n",
    "print(df_left_paypal.value_counts('Status'))\n",
    "df_left_paypal.value_counts('Type')"
   ]
  },
  {
   "cell_type": "code",
   "execution_count": null,
   "metadata": {},
   "outputs": [],
   "source": [
    "df_left_paypal[df_left_paypal['Type'] == 'Express Checkout Payment']"
   ]
  },
  {
   "cell_type": "code",
   "execution_count": null,
   "metadata": {},
   "outputs": [],
   "source": [
    "print(df_platform_paypal.value_counts('Balance Impact'))\n",
    "print(df_platform_paypal.value_counts('Status'))\n",
    "print(df_platform_paypal.value_counts('Type'))"
   ]
  },
  {
   "cell_type": "code",
   "execution_count": null,
   "metadata": {},
   "outputs": [],
   "source": [
    "df_left_platform.sample(10)"
   ]
  },
  {
   "cell_type": "code",
   "execution_count": null,
   "metadata": {},
   "outputs": [],
   "source": [
    "from utils import matchByDateAndValue\n",
    "\n",
    "df_left_paypal = df_left_paypal[~df_left_paypal['Transaction ID'].isin(df_second_pass_paypal['Transaction ID'])]\n",
    "print(f\"PayPal transactions with a corresponding Platform transaction: {len(df_second_pass_paypal)}\")\n",
    "print(f\"PayPal transactions without either a corresponding Platform transaction or a Bank transaction: {len(df_left_paypal)} out of {len(df_paypal_reconciliation)}\")\n",
    "print(f\"Percentage of PayPal transactions that have a corresponding transaction either on the Platform or on the Bank: {round((len(df_second_pass_paypal)+len(df_platform_paypal))/len(df_paypal_reconciliation)*100, 2)}%\")\n",
    "df_left_paypal.head(10)"
   ]
  },
  {
   "cell_type": "code",
   "execution_count": null,
   "metadata": {},
   "outputs": [],
   "source": [
    "df_second_pass_paypal.head()"
   ]
  },
  {
   "cell_type": "code",
   "execution_count": null,
   "metadata": {},
   "outputs": [],
   "source": [
    "df_paypal_bank = matchByDateAndValue(df_left_paypal, ['Datetime', 'Gross'], df_banks, ['Post Date', 'Debit'], '2 days', 0.05).dropna(subset=['df2key'])\n",
    "df_left_paypal = df_left_paypal[~df_left_paypal['Transaction ID'].isin(df_paypal_bank['Transaction ID'])]\n",
    "print(f\"PayPal transactions with a corresponding Bank transaction: {len(df_paypal_bank)}\")\n",
    "print(f\"PayPal transactions without either a corresponding Platform transaction or a Bank transaction: {len(df_left_paypal)} out of {len(df_paypal_reconciliation)}\")\n",
    "print(f\"Percentage of PayPal transactions that have a corresponding transaction either on the Platform or on the Bank: {round((len(df_paypal_bank)+len(df_platform_paypal))/len(df_paypal_reconciliation)*100, 2)}%\")\n",
    "df_paypal_bank.head(10)"
   ]
  },
  {
   "cell_type": "code",
   "execution_count": null,
   "metadata": {},
   "outputs": [],
   "source": []
  }
 ],
 "metadata": {
  "kernelspec": {
   "display_name": "ocenv",
   "language": "python",
   "name": "python3"
  },
  "language_info": {
   "codemirror_mode": {
    "name": "ipython",
    "version": 3
   },
   "file_extension": ".py",
   "mimetype": "text/x-python",
   "name": "python",
   "nbconvert_exporter": "python",
   "pygments_lexer": "ipython3",
   "version": "3.11.2"
  }
 },
 "nbformat": 4,
 "nbformat_minor": 2
}
