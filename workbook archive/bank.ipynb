{
 "cells": [
  {
   "cell_type": "code",
   "execution_count": 1,
   "metadata": {},
   "outputs": [
    {
     "name": "stdout",
     "output_type": "stream",
     "text": [
      "Loading data...\n"
     ]
    },
    {
     "name": "stderr",
     "output_type": "stream",
     "text": [
      "/var/folders/qf/j616b9d53yn77zcpky42s5r40000gn/T/ipykernel_95999/933785469.py:6: DtypeWarning: Columns (20,28,29,30,31,32,33,40,41,42,43,45,60) have mixed types. Specify dtype option on import or set low_memory=False.\n",
      "  df_stripe_payouts = pd.read_csv(f'data/{host}/{year}/stripe_payouts.csv')\n"
     ]
    }
   ],
   "source": [
    "try:\n",
    "  df_platform\n",
    "  print(\"Data already loaded\")\n",
    "except NameError:\n",
    "  print(\"Loading data...\")\n",
    "  %run data.ipynb"
   ]
  },
  {
   "cell_type": "code",
   "execution_count": 2,
   "metadata": {},
   "outputs": [
    {
     "data": {
      "text/html": [
       "<div>\n",
       "<style scoped>\n",
       "    .dataframe tbody tr th:only-of-type {\n",
       "        vertical-align: middle;\n",
       "    }\n",
       "\n",
       "    .dataframe tbody tr th {\n",
       "        vertical-align: top;\n",
       "    }\n",
       "\n",
       "    .dataframe thead th {\n",
       "        text-align: right;\n",
       "    }\n",
       "</style>\n",
       "<table border=\"1\" class=\"dataframe\">\n",
       "  <thead>\n",
       "    <tr style=\"text-align: right;\">\n",
       "      <th></th>\n",
       "      <th>index</th>\n",
       "      <th>Post Date</th>\n",
       "      <th>Customer Ref</th>\n",
       "      <th>Debit</th>\n",
       "      <th>Credit</th>\n",
       "      <th>BAI Description</th>\n",
       "      <th>Detail</th>\n",
       "      <th>Account Number</th>\n",
       "    </tr>\n",
       "  </thead>\n",
       "  <tbody>\n",
       "    <tr>\n",
       "      <th>0</th>\n",
       "      <td>0</td>\n",
       "      <td>2023-01-03</td>\n",
       "      <td>Google LLC        ED</td>\n",
       "      <td>NaN</td>\n",
       "      <td>10000.00</td>\n",
       "      <td>PREAUTHORIZED ACH CREDIT</td>\n",
       "      <td>Google LLC        EDI PYMNTS        20230103  ...</td>\n",
       "      <td>4869374308</td>\n",
       "    </tr>\n",
       "    <tr>\n",
       "      <th>1</th>\n",
       "      <td>1</td>\n",
       "      <td>2023-01-03</td>\n",
       "      <td>007000103062636</td>\n",
       "      <td>NaN</td>\n",
       "      <td>90.00</td>\n",
       "      <td>INCOMING MONEY TRANSFER</td>\n",
       "      <td>INCOMING FLS      ACCT#4869374308   1/MICHAEL ...</td>\n",
       "      <td>4869374308</td>\n",
       "    </tr>\n",
       "    <tr>\n",
       "      <th>2</th>\n",
       "      <td>2</td>\n",
       "      <td>2023-01-03</td>\n",
       "      <td>007000103103130</td>\n",
       "      <td>NaN</td>\n",
       "      <td>5.00</td>\n",
       "      <td>INCOMING MONEY TRANSFER</td>\n",
       "      <td>INCOMING FLS      ACCT#4869374308   1/DAVIDE F...</td>\n",
       "      <td>4869374308</td>\n",
       "    </tr>\n",
       "    <tr>\n",
       "      <th>3</th>\n",
       "      <td>3</td>\n",
       "      <td>2023-01-03</td>\n",
       "      <td>VELOCITY GLOBAL   ED</td>\n",
       "      <td>3401.28</td>\n",
       "      <td>NaN</td>\n",
       "      <td>PREAUTHORIZED ACH DEBIT</td>\n",
       "      <td>VELOCITY GLOBAL   EDI PAYMNT        20230102  ...</td>\n",
       "      <td>4869374308</td>\n",
       "    </tr>\n",
       "    <tr>\n",
       "      <th>4</th>\n",
       "      <td>4</td>\n",
       "      <td>2023-01-04</td>\n",
       "      <td>Wise Inc          61</td>\n",
       "      <td>NaN</td>\n",
       "      <td>159.61</td>\n",
       "      <td>PREAUTHORIZED ACH CREDIT</td>\n",
       "      <td>Wise Inc          610275            610275    ...</td>\n",
       "      <td>4869374308</td>\n",
       "    </tr>\n",
       "  </tbody>\n",
       "</table>\n",
       "</div>"
      ],
      "text/plain": [
       "   index  Post Date          Customer Ref    Debit    Credit  \\\n",
       "0      0 2023-01-03  Google LLC        ED      NaN  10000.00   \n",
       "1      1 2023-01-03       007000103062636      NaN     90.00   \n",
       "2      2 2023-01-03       007000103103130      NaN      5.00   \n",
       "3      3 2023-01-03  VELOCITY GLOBAL   ED  3401.28       NaN   \n",
       "4      4 2023-01-04  Wise Inc          61      NaN    159.61   \n",
       "\n",
       "            BAI Description  \\\n",
       "0  PREAUTHORIZED ACH CREDIT   \n",
       "1   INCOMING MONEY TRANSFER   \n",
       "2   INCOMING MONEY TRANSFER   \n",
       "3   PREAUTHORIZED ACH DEBIT   \n",
       "4  PREAUTHORIZED ACH CREDIT   \n",
       "\n",
       "                                              Detail  Account Number  \n",
       "0  Google LLC        EDI PYMNTS        20230103  ...      4869374308  \n",
       "1  INCOMING FLS      ACCT#4869374308   1/MICHAEL ...      4869374308  \n",
       "2  INCOMING FLS      ACCT#4869374308   1/DAVIDE F...      4869374308  \n",
       "3  VELOCITY GLOBAL   EDI PAYMNT        20230102  ...      4869374308  \n",
       "4  Wise Inc          610275            610275    ...      4869374308  "
      ]
     },
     "execution_count": 2,
     "metadata": {},
     "output_type": "execute_result"
    }
   ],
   "source": [
    "df_bank_reconciliation = df_banks.copy()\n",
    "df_bank_reconciliation.head()"
   ]
  },
  {
   "cell_type": "code",
   "execution_count": 3,
   "metadata": {},
   "outputs": [
    {
     "name": "stdout",
     "output_type": "stream",
     "text": [
      "204025 bank related transactions out of 845230 total transactions (24.14%)\n"
     ]
    }
   ],
   "source": [
    "df_platform_bank_related = df_platform[(df_platform['kind'] == 'CONTRIBUTION') | (df_platform['kind'] == 'EXPENSE') | (df_platform['kind'] == 'ADDED_FUNDS')]\n",
    "print(f\"{len(df_platform_bank_related)} bank related transactions out of {len(df_platform)} total transactions ({len(df_platform_bank_related)/len(df_platform)*100:.2f}%)\")"
   ]
  },
  {
   "cell_type": "code",
   "execution_count": 4,
   "metadata": {},
   "outputs": [
    {
     "name": "stdout",
     "output_type": "stream",
     "text": [
      "Successfully merged 400 rows out of 660 from Value and Date\n"
     ]
    }
   ],
   "source": [
    "import pandas as pd\n",
    "from utils import matchByDateAndValue\n",
    "df_platform_bank_debits = matchByDateAndValue(df_platform_bank_related, ['createdAt', 'amountInHostCurrency.value'], df_bank_reconciliation, ['Post Date', 'Debit'] , '2 days', 0.05, True).dropna(subset=['df2key'])\n",
    "df_platform_bank_credits = matchByDateAndValue(df_platform_bank_related, ['createdAt', 'amountInHostCurrency.value'], df_bank_reconciliation, ['Post Date', 'Credit'] , '2 days', 0.05, True).dropna(subset=['df2key'])\n",
    "df_platform_bank = pd.concat([df_platform_bank_debits, df_platform_bank_credits])\n",
    "print('Successfully merged {} rows out of {} from Value and Date'.format(len(df_platform_bank), len(df_bank_reconciliation)))"
   ]
  },
  {
   "cell_type": "code",
   "execution_count": 5,
   "metadata": {},
   "outputs": [
    {
     "name": "stdout",
     "output_type": "stream",
     "text": [
      "Successfully merged 10 rows out of 243 from payouts Value and Date\n"
     ]
    }
   ],
   "source": [
    "df_left_bank = df_bank_reconciliation[~df_bank_reconciliation['index'].isin(df_platform_bank['index'])]\n",
    "df_payouts_bank = matchByDateAndValue(df_stripe_payouts, ['automatic_payout_effective_at_utc', 'net'], df_left_bank, ['Post Date', 'Credit'] , '2 days', 0.05, True).dropna(subset=['df2key'])\n",
    "df_left_bank = df_left_bank[~df_left_bank['index'].isin(df_payouts_bank['index'])]\n",
    "print('Successfully merged {} rows out of {} from payouts Value and Date'.format(len(df_payouts_bank), len(df_left_bank)))"
   ]
  }
 ],
 "metadata": {
  "kernelspec": {
   "display_name": "ocenv",
   "language": "python",
   "name": "python3"
  },
  "language_info": {
   "codemirror_mode": {
    "name": "ipython",
    "version": 3
   },
   "file_extension": ".py",
   "mimetype": "text/x-python",
   "name": "python",
   "nbconvert_exporter": "python",
   "pygments_lexer": "ipython3",
   "version": "3.11.5"
  }
 },
 "nbformat": 4,
 "nbformat_minor": 2
}
