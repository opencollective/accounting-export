{
 "cells": [
  {
   "cell_type": "code",
   "execution_count": null,
   "metadata": {},
   "outputs": [],
   "source": [
    "%run wise.ipynb\n",
    "%run paypal.ipynb\n",
    "%run stripe.ipynb"
   ]
  },
  {
   "cell_type": "code",
   "execution_count": null,
   "metadata": {},
   "outputs": [],
   "source": [
    "df_platform.info()"
   ]
  },
  {
   "cell_type": "code",
   "execution_count": null,
   "metadata": {},
   "outputs": [],
   "source": [
    "df_platform_reconciled = df_platform[df_platform['id'].isin(df_platform_wise['id']) | df_platform['id'].isin(df_platform_paypal['id']) | df_platform['id'].isin(df_platform_stripe['id'])]\n",
    "df_platform_left = df_platform[~df_platform['id'].isin(df_platform_reconciled['id']) & ~df_platform['group'].isin(df_platform_reconciled['group'])]\n",
    "\n",
    "reconciledIncludingGroups = len(df_platform) - len(df_platform_left)\n",
    "print(f\"{reconciledIncludingGroups} platform transactions reconciled out of {len(df_platform)}: {round(reconciledIncludingGroups / len(df_platform) * 100, 2)}%\")"
   ]
  },
  {
   "cell_type": "code",
   "execution_count": null,
   "metadata": {},
   "outputs": [],
   "source": [
    "from utils import matchByDateAndValue\n",
    "df_second_pass_stripe = matchByDateAndValue(df_left_platform, ['createdAt', 'amountInHostCurrency.value'], df_left_stripe, ['Created date (UTC)', 'Amount'], timeDelta='2 days', valueDelta=0.05, absolute=True).dropna(subset=['df2key'])"
   ]
  },
  {
   "cell_type": "code",
   "execution_count": null,
   "metadata": {},
   "outputs": [],
   "source": [
    "df_wise.head()"
   ]
  },
  {
   "cell_type": "code",
   "execution_count": null,
   "metadata": {},
   "outputs": [],
   "source": [
    "df_platform_reconciled.value_counts('kind')"
   ]
  },
  {
   "cell_type": "code",
   "execution_count": null,
   "metadata": {},
   "outputs": [],
   "source": [
    "df_platform_left.value_counts('kind')"
   ]
  }
 ],
 "metadata": {
  "kernelspec": {
   "display_name": "ocenv",
   "language": "python",
   "name": "python3"
  },
  "language_info": {
   "codemirror_mode": {
    "name": "ipython",
    "version": 3
   },
   "file_extension": ".py",
   "mimetype": "text/x-python",
   "name": "python",
   "nbconvert_exporter": "python",
   "pygments_lexer": "ipython3",
   "version": "3.11.2"
  }
 },
 "nbformat": 4,
 "nbformat_minor": 2
}
