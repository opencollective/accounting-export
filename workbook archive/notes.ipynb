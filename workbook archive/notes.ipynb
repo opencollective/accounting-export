{
 "cells": [
  {
   "cell_type": "code",
   "execution_count": 1,
   "metadata": {},
   "outputs": [],
   "source": [
    "import pandas as pd"
   ]
  },
  {
   "cell_type": "markdown",
   "metadata": {},
   "source": [
    "# Configure and load data"
   ]
  },
  {
   "cell_type": "code",
   "execution_count": 2,
   "metadata": {},
   "outputs": [],
   "source": [
    "# Host variables\n",
    "host = 'opensource'\n",
    "dateFrom = '2022-12-31T22:59:59.999Z'\n",
    "dateTo = '2023-12-31T22:59:59.999Z'\n",
    "year = '2023'"
   ]
  },
  {
   "cell_type": "code",
   "execution_count": 3,
   "metadata": {},
   "outputs": [
    {
     "name": "stderr",
     "output_type": "stream",
     "text": [
      "/var/folders/qf/j616b9d53yn77zcpky42s5r40000gn/T/ipykernel_73083/1724319478.py:10: DtypeWarning: Columns (20,28,29,30,31,32,33,40,41,42,43,45,60) have mixed types. Specify dtype option on import or set low_memory=False.\n",
      "  df_stripe_payouts = pd.read_csv(f'data/{host}/{year}/stripe_payouts.csv')\n"
     ]
    }
   ],
   "source": [
    "# import datasets from local files\n",
    "\n",
    "import glob\n",
    "\n",
    "# load open collective data\n",
    "df_platform = pd.read_pickle(f'data/{host}/{year}/df_{host}_{year}_all_platform_transactions.pkl')\n",
    "\n",
    "# load stripe data\n",
    "df_stripe = pd.read_pickle(f'data/{host}/{year}/df_{host}_{year}_stripe_transactions.pkl')\n",
    "df_stripe_payouts = pd.read_csv(f'data/{host}/{year}/stripe_payouts.csv')\n",
    "\n",
    "# load wise data\n",
    "df_wise = pd.read_pickle(f'data/{host}/{year}/df_{host}_{year}_wise_transactions.pkl')\n",
    "\n",
    "# load paypal data\n",
    "dir = f'data/{host}/{year}/paypal'\n",
    "df_paypal = pd.concat([pd.read_csv(f) for f in glob.glob(f'{dir}/*.csv')], ignore_index=True)\n",
    "df_paypal = df_paypal.dropna(axis=1, how='all')\n",
    "\n",
    "# load bank data\n",
    "dir = f'data/{host}/{year}/oscbank_1'\n",
    "df_bank_1 = pd.concat([pd.read_csv(f) for f in glob.glob(f'{dir}/*.csv')], ignore_index=True)\n",
    "df_bank_1 = df_bank_1.dropna(axis=1, how='all')\n",
    "\n",
    "dir = f'data/{host}/{year}/oscbank_2'\n",
    "df_bank_2 = pd.concat([pd.read_csv(f) for f in glob.glob(f'{dir}/*.csv')], ignore_index=True)\n",
    "df_bank_2 = df_bank_2.dropna(axis=1, how='all')\n"
   ]
  },
  {
   "cell_type": "markdown",
   "metadata": {},
   "source": [
    "# Stripe transactions without paymentMethod"
   ]
  },
  {
   "cell_type": "code",
   "execution_count": 9,
   "metadata": {},
   "outputs": [],
   "source": [
    "# Create a df_platform_stripe dataframe that is a merge of df_platform and df_stripe on merchantId on the left and id on the right\n",
    "df_platform_stripe = pd.merge(df_platform, df_stripe, left_on='merchantId', right_on='id', how='right')"
   ]
  },
  {
   "cell_type": "markdown",
   "metadata": {},
   "source": [
    "There are transactions on the platform with a stripe.id in merchantId that do not have STRIPE as the paymentMethod.service."
   ]
  },
  {
   "cell_type": "code",
   "execution_count": 13,
   "metadata": {},
   "outputs": [
    {
     "data": {
      "text/plain": [
       "paymentMethod.service\n",
       "STRIPE            124584\n",
       "NaN                38506\n",
       "OPENCOLLECTIVE       806\n",
       "Name: count, dtype: int64"
      ]
     },
     "execution_count": 13,
     "metadata": {},
     "output_type": "execute_result"
    }
   ],
   "source": [
    "df_platform_stripe['paymentMethod.service'].value_counts(dropna=False)"
   ]
  },
  {
   "cell_type": "markdown",
   "metadata": {},
   "source": [
    "This means that we can't use the paymentMethod.service as a qualifier of that a contribution was made with Stripe. \n",
    "We need to merge directly on merchantId without filtering."
   ]
  },
  {
   "cell_type": "markdown",
   "metadata": {},
   "source": [
    "Case study: find a stripe transaction that is registered on the platform without the reference to the stripe id."
   ]
  },
  {
   "cell_type": "code",
   "execution_count": 14,
   "metadata": {},
   "outputs": [
    {
     "data": {
      "text/html": [
       "<div>\n",
       "<style scoped>\n",
       "    .dataframe tbody tr th:only-of-type {\n",
       "        vertical-align: middle;\n",
       "    }\n",
       "\n",
       "    .dataframe tbody tr th {\n",
       "        vertical-align: top;\n",
       "    }\n",
       "\n",
       "    .dataframe thead th {\n",
       "        text-align: right;\n",
       "    }\n",
       "</style>\n",
       "<table border=\"1\" class=\"dataframe\">\n",
       "  <thead>\n",
       "    <tr style=\"text-align: right;\">\n",
       "      <th></th>\n",
       "      <th>id</th>\n",
       "      <th>uuid</th>\n",
       "      <th>kind</th>\n",
       "      <th>paymentMethod</th>\n",
       "      <th>payoutMethod</th>\n",
       "      <th>giftCardEmitterAccount</th>\n",
       "      <th>group</th>\n",
       "      <th>type</th>\n",
       "      <th>description</th>\n",
       "      <th>createdAt</th>\n",
       "      <th>...</th>\n",
       "      <th>expense.payee.type</th>\n",
       "      <th>expense.payee.__typename</th>\n",
       "      <th>expense.__typename</th>\n",
       "      <th>refundTransaction.id</th>\n",
       "      <th>payoutMethod.type</th>\n",
       "      <th>payoutMethod.name</th>\n",
       "      <th>giftCardEmitterAccount.id</th>\n",
       "      <th>giftCardEmitterAccount.name</th>\n",
       "      <th>giftCardEmitterAccount.slug</th>\n",
       "      <th>giftCardEmitterAccount.__typename</th>\n",
       "    </tr>\n",
       "  </thead>\n",
       "  <tbody>\n",
       "    <tr>\n",
       "      <th>580387</th>\n",
       "      <td>209b4298-267d-4fdf-8ee1-167ec49c4765</td>\n",
       "      <td>209b4298-267d-4fdf-8ee1-167ec49c4765</td>\n",
       "      <td>CONTRIBUTION</td>\n",
       "      <td>NaN</td>\n",
       "      <td>NaN</td>\n",
       "      <td>NaN</td>\n",
       "      <td>38c62837-9fe5-4399-8aa4-1b88ef98e40a</td>\n",
       "      <td>CREDIT</td>\n",
       "      <td>Monthly financial contribution to Helix (backer)</td>\n",
       "      <td>2023-04-24T22:22:07.997Z</td>\n",
       "      <td>...</td>\n",
       "      <td>NaN</td>\n",
       "      <td>NaN</td>\n",
       "      <td>NaN</td>\n",
       "      <td>NaN</td>\n",
       "      <td>NaN</td>\n",
       "      <td>NaN</td>\n",
       "      <td>NaN</td>\n",
       "      <td>NaN</td>\n",
       "      <td>NaN</td>\n",
       "      <td>NaN</td>\n",
       "    </tr>\n",
       "  </tbody>\n",
       "</table>\n",
       "<p>1 rows × 73 columns</p>\n",
       "</div>"
      ],
      "text/plain": [
       "                                          id  \\\n",
       "580387  209b4298-267d-4fdf-8ee1-167ec49c4765   \n",
       "\n",
       "                                        uuid          kind  paymentMethod  \\\n",
       "580387  209b4298-267d-4fdf-8ee1-167ec49c4765  CONTRIBUTION            NaN   \n",
       "\n",
       "        payoutMethod  giftCardEmitterAccount  \\\n",
       "580387           NaN                     NaN   \n",
       "\n",
       "                                       group    type  \\\n",
       "580387  38c62837-9fe5-4399-8aa4-1b88ef98e40a  CREDIT   \n",
       "\n",
       "                                             description  \\\n",
       "580387  Monthly financial contribution to Helix (backer)   \n",
       "\n",
       "                       createdAt  ... expense.payee.type  \\\n",
       "580387  2023-04-24T22:22:07.997Z  ...                NaN   \n",
       "\n",
       "        expense.payee.__typename  expense.__typename  refundTransaction.id  \\\n",
       "580387                       NaN                 NaN                   NaN   \n",
       "\n",
       "        payoutMethod.type  payoutMethod.name giftCardEmitterAccount.id  \\\n",
       "580387                NaN                NaN                       NaN   \n",
       "\n",
       "       giftCardEmitterAccount.name  giftCardEmitterAccount.slug  \\\n",
       "580387                         NaN                          NaN   \n",
       "\n",
       "       giftCardEmitterAccount.__typename  \n",
       "580387                               NaN  \n",
       "\n",
       "[1 rows x 73 columns]"
      ]
     },
     "execution_count": 14,
     "metadata": {},
     "output_type": "execute_result"
    }
   ],
   "source": [
    "# find record in df_platform_stripe where id is 209b4298-267d-4fdf-8ee1-167ec49c4765\n",
    "# this is a contribution that is tracked on the platform\n",
    "# it corresponds to stripe id ch_3N0XlpBYycQg1OMf18wE89HX\n",
    "# however, this stripe id is not registered on the platform\n",
    "# see transaction at https://opencollective.com/dashboard/opensource/host-transactions?openTransactionId=209b4298-267d-4fdf-8ee1-167ec49c4765&group=38c62837-9fe5-4399-8aa4-1b88ef98e40a\n",
    "\n",
    "df_platform[df_platform['id'] == '209b4298-267d-4fdf-8ee1-167ec49c4765']"
   ]
  },
  {
   "cell_type": "markdown",
   "metadata": {},
   "source": [
    "# How does the platform ledger handle refunds?"
   ]
  }
 ],
 "metadata": {
  "kernelspec": {
   "display_name": "base",
   "language": "python",
   "name": "python3"
  },
  "language_info": {
   "codemirror_mode": {
    "name": "ipython",
    "version": 3
   },
   "file_extension": ".py",
   "mimetype": "text/x-python",
   "name": "python",
   "nbconvert_exporter": "python",
   "pygments_lexer": "ipython3",
   "version": "3.11.5"
  }
 },
 "nbformat": 4,
 "nbformat_minor": 2
}
