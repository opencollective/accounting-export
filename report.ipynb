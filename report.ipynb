{
 "cells": [
  {
   "cell_type": "code",
   "execution_count": null,
   "metadata": {},
   "outputs": [],
   "source": [
    "%run wise.ipynb\n",
    "\n",
    "reportDir = './reports/opensource'\n",
    "df_wise.to_csv(f'{reportDir}/wise.csv', index=False)\n",
    "df_platform.to_csv(f'{reportDir}/platform.csv', index=False)\n",
    "df_paypal.to_csv(f'{reportDir}/paypal.csv', index=False)\n",
    "df_stripe.to_csv(f'{reportDir}/stripe.csv', index=False)\n",
    "df_banks.to_csv(f'{reportDir}/banks.csv', index=False)\n",
    "\n",
    "df_platform_wise[['id', 'wise.id']].to_csv(f'{reportDir}/platform_wise_reconciliation.csv', index=False)\n",
    "df_wise_bank[['wise.id', 'index']].to_csv(f'{reportDir}/wise_banks_reconciliation.csv', index=False)"
   ]
  },
  {
   "cell_type": "code",
   "execution_count": null,
   "metadata": {},
   "outputs": [],
   "source": [
    "%run paypal.ipynb\n",
    "\n",
    "df_platform_paypal[['id', 'Transaction ID']].to_csv(f'{reportDir}/platform_paypal_reconciliation.csv', index=False)"
   ]
  },
  {
   "cell_type": "code",
   "execution_count": null,
   "metadata": {},
   "outputs": [],
   "source": [
    "print('Running wise.ipynb...')\n",
    "%run wise.ipynb\n",
    "print('Running paypal.ipynb...')\n",
    "%run paypal.ipynb\n",
    "\n",
    "with pd.ExcelWriter(\n",
    "    \"reports/opensource.xlsx\",\n",
    "    date_format=\"YYYY-MM-DD\",\n",
    "    datetime_format=\"YYYY-MM-DD HH:MM:SS\"\n",
    ") as writer:\n",
    "    print(f'\\nWriting ODF file...')\n",
    "    df_wise.to_excel(writer, index=False, sheet_name='wise')\n",
    "    df_paypal.to_excel(writer, index=False, sheet_name='paypal')\n",
    "    df_banks.to_excel(writer, index=False, sheet_name='banks')\n",
    "    df_platform_wise[['id', 'wise.id']].to_excel(writer, index=False, sheet_name='platform_wise_reconciliation')\n",
    "    df_wise_bank[['wise.id', 'index']].to_excel(writer, index=False, sheet_name='wise_banks_reconciliation')\n",
    "    df_platform_paypal[['id', 'Transaction ID']].to_excel(writer, index=False, sheet_name='platform_paypal_reconciliation')\n",
    "    df_paypal_bank[['Transaction ID', 'index']].to_excel(writer, index=False, sheet_name='paypal_bank_reconciliation')"
   ]
  },
  {
   "cell_type": "markdown",
   "metadata": {},
   "source": [
    "## Leftovers"
   ]
  },
  {
   "cell_type": "code",
   "execution_count": null,
   "metadata": {},
   "outputs": [],
   "source": [
    "print('Running wise.ipynb...')\n",
    "%run wise.ipynb\n",
    "print('Running paypal.ipynb...')\n",
    "%run paypal.ipynb\n",
    "print('Running stripe.ipynb...')\n",
    "%run stripe.ipynb\n",
    "print('Running bank.ipynb...')\n",
    "%run bank.ipynb\n",
    "\n",
    "with pd.ExcelWriter(\n",
    "    \"reports/opensource.leftovers.xlsx\",\n",
    "    date_format=\"YYYY-MM-DD\",\n",
    "    datetime_format=\"YYYY-MM-DD HH:MM:SS\"\n",
    ") as writer:\n",
    "    print(f'\\nWriting xlsx file...')\n",
    "    df_left_bank.to_excel(writer, index=False, sheet_name='banks')\n",
    "    df_left_wise.to_excel(writer, index=False, sheet_name='wise')\n",
    "    df_left_stripe.to_excel(writer, index=False, sheet_name='stripe')\n",
    "    df_left_paypal.to_excel(writer, index=False, sheet_name='paypal')\n",
    "    "
   ]
  }
 ],
 "metadata": {
  "kernelspec": {
   "display_name": "ocenv",
   "language": "python",
   "name": "python3"
  },
  "language_info": {
   "codemirror_mode": {
    "name": "ipython",
    "version": 3
   },
   "file_extension": ".py",
   "mimetype": "text/x-python",
   "name": "python",
   "nbconvert_exporter": "python",
   "pygments_lexer": "ipython3",
   "version": "3.11.2"
  }
 },
 "nbformat": 4,
 "nbformat_minor": 2
}
