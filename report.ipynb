{
 "cells": [
  {
   "cell_type": "code",
   "execution_count": null,
   "metadata": {},
   "outputs": [],
   "source": [
    "%run wise.ipynb\n",
    "\n",
    "reportDir = './reports/opensource'\n",
    "df_wise.to_csv(f'{reportDir}/wise.csv', index=False)\n",
    "df_platform.to_csv(f'{reportDir}/platform.csv', index=False)\n",
    "df_paypal.to_csv(f'{reportDir}/paypal.csv', index=False)\n",
    "df_stripe.to_csv(f'{reportDir}/stripe.csv', index=False)\n",
    "df_banks.to_csv(f'{reportDir}/banks.csv', index=False)\n",
    "\n",
    "df_platform_wise[['id', 'wise.id']].to_csv(f'{reportDir}/platform_wise_reconciliation.csv', index=False)\n",
    "df_wise_bank[['wise.id', 'index']].to_csv(f'{reportDir}/wise_banks_reconciliation.csv', index=False)"
   ]
  },
  {
   "cell_type": "code",
   "execution_count": null,
   "metadata": {},
   "outputs": [],
   "source": [
    "%run paypal.ipynb\n",
    "\n",
    "df_platform_paypal[['id', 'Transaction ID']].to_csv(f'{reportDir}/platform_paypal_reconciliation.csv', index=False)"
   ]
  },
  {
   "cell_type": "code",
   "execution_count": null,
   "metadata": {},
   "outputs": [],
   "source": [
    "print('Running wise.ipynb...')\n",
    "%run wise.ipynb\n",
    "print('Running paypal.ipynb...')\n",
    "%run paypal.ipynb\n",
    "\n",
    "def write(writer, df, sheet_name):\n",
    "    print(f'\\t -> Adding sheet {sheet_name}...', end=' ')\n",
    "    df.to_excel(writer, index=False, sheet_name=sheet_name)\n",
    "    print('Done!')\n",
    "\n",
    "with pd.ExcelWriter(\n",
    "    \"opensource.xlsx\",\n",
    "    date_format=\"YYYY-MM-DD\",\n",
    "    datetime_format=\"YYYY-MM-DD HH:MM:SS\"\n",
    ") as writer:\n",
    "    print(f'\\nWriting ODF file...')\n",
    "    df_wise.to_excel(writer, index=False, sheet_name='wise')\n",
    "    df_paypal.to_excel(writer, index=False, sheet_name='paypal')\n",
    "    df_banks.to_excel(writer, index=False, sheet_name='banks')\n",
    "    df_platform_wise[['id', 'wise.id']].to_excel(writer, sheet_name='platform_wise_reconciliation')\n",
    "    df_wise_bank[['wise.id', 'index']].to_excel(writer, sheet_name='wise_banks_reconciliation')\n",
    "    df_platform_paypal[['id', 'Transaction ID']].to_excel(writer, sheet_name='platform_paypal_reconciliation')\n",
    "    df_paypal_bank[['Transaction ID', 'index']].to_excel(writer, sheet_name='paypal_bank_reconciliation')"
   ]
  }
 ],
 "metadata": {
  "kernelspec": {
   "display_name": "ocenv",
   "language": "python",
   "name": "python3"
  },
  "language_info": {
   "codemirror_mode": {
    "name": "ipython",
    "version": 3
   },
   "file_extension": ".py",
   "mimetype": "text/x-python",
   "name": "python",
   "nbconvert_exporter": "python",
   "pygments_lexer": "ipython3",
   "version": "3.11.2"
  }
 },
 "nbformat": 4,
 "nbformat_minor": 2
}
