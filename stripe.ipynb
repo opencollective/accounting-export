{
 "cells": [
  {
   "cell_type": "code",
   "execution_count": null,
   "metadata": {},
   "outputs": [],
   "source": [
    "try:\n",
    "  df_platform\n",
    "  print(\"Data already loaded\")\n",
    "except NameError:\n",
    "  print(\"Loading data...\")\n",
    "  %run data.ipynb"
   ]
  },
  {
   "cell_type": "code",
   "execution_count": null,
   "metadata": {},
   "outputs": [],
   "source": [
    "import pandas as pd"
   ]
  },
  {
   "cell_type": "markdown",
   "metadata": {},
   "source": [
    "# Reconciling Stripe"
   ]
  },
  {
   "cell_type": "markdown",
   "metadata": {},
   "source": [
    "## Automatic reconciliation by merchantId"
   ]
  },
  {
   "cell_type": "code",
   "execution_count": null,
   "metadata": {},
   "outputs": [],
   "source": [
    "# copy df_strip to df_s\n",
    "df_stripe_reconciliation = df_stripe.copy()"
   ]
  },
  {
   "cell_type": "code",
   "execution_count": null,
   "metadata": {},
   "outputs": [],
   "source": [
    "df_stripe_reconciliation.head()"
   ]
  },
  {
   "cell_type": "code",
   "execution_count": null,
   "metadata": {},
   "outputs": [],
   "source": [
    "# df_platform where kind is CONTRIBUTION and paymentMethod.service is STRIPE\n",
    "df_platform_stripe_related = df_platform[(df_platform['kind'] == 'CONTRIBUTION') & (df_platform['paymentMethod.service'] == 'STRIPE')]"
   ]
  },
  {
   "cell_type": "code",
   "execution_count": null,
   "metadata": {},
   "outputs": [],
   "source": [
    "df_platform_stripe_related.head()"
   ]
  },
  {
   "cell_type": "code",
   "execution_count": null,
   "metadata": {},
   "outputs": [],
   "source": [
    "# for each row in df_stripe, find the corresponding row in df_platform, match df_stripe['id'] with df_platform['merchantId']\n",
    "# if the row exists, add the platform transaction id to df_stripe in a new column called platform_transaction_id\n",
    "# if the row does not exist, set the platform_transaction_id to None\n",
    "\n",
    "df_platform_stripe = pd.merge(df_platform_stripe_related.dropna(subset=['merchantId']), df_stripe_reconciliation, left_on='merchantId', right_on='stripe.id', how='left').dropna(subset=['stripe.id'])\n",
    "print('Successfully merged {} rows out of {}'.format(len(df_platform_stripe), len(df_platform_stripe_related)))\n",
    "df_left_platform = df_platform_stripe_related[~df_platform_stripe_related['id'].isin(df_platform_stripe['id'])]\n",
    "df_left_stripe = df_stripe_reconciliation[~df_stripe_reconciliation['stripe.id'].isin(df_platform_stripe['stripe.id'])]\n",
    "\n",
    "from utils import matchByDateAndValue\n",
    "df_second_pass_stripe = matchByDateAndValue(df_left_platform, ['createdAt', 'amountInHostCurrency.value'], df_left_stripe, ['Created date (UTC)', 'Amount'], timeDelta='2 days', valueDelta=0.05, absolute=True).dropna(subset=['df2key'])\n",
    "df_platform_stripe = pd.concat([df_platform_stripe, df_second_pass_stripe.loc[:, df_second_pass_stripe.columns!='df2key']], ignore_index=True)\n",
    "df_left_stripe = df_stripe_reconciliation[~df_stripe_reconciliation['stripe.id'].isin(df_platform_stripe['stripe.id'])]\n",
    "print('Successfully merged {} rows out of {} from Value and Date'.format(len(df_second_pass_stripe), len(df_platform_stripe_related)))\n",
    "\n",
    "print(f\"Platform transactions that have a corresponding Stripe transaction: {len(df_platform_stripe)}\")\n",
    "print(f\"Platform transactions without a corresponding Stripe transaction: {len(df_left_platform)}\")\n",
    "print(f\"Percentage of Platform transactions that have a corresponding Stripe transaction: {round(len(df_platform_stripe)/len(df_platform_stripe_related)*100, 2)}%\")\n",
    "print(f\"Stripe transactions without a corresponding platform transaction: {len(df_left_stripe)}\")\n",
    "print(f\"Percentage of Stripe transactions that have a corresponding Platform transaction: {round(len(df_platform_stripe)/len(df_stripe_reconciliation)*100, 2)}%\")\n"
   ]
  }
 ],
 "metadata": {
  "kernelspec": {
   "display_name": "Python 3",
   "language": "python",
   "name": "python3"
  },
  "language_info": {
   "codemirror_mode": {
    "name": "ipython",
    "version": 3
   },
   "file_extension": ".py",
   "mimetype": "text/x-python",
   "name": "python",
   "nbconvert_exporter": "python",
   "pygments_lexer": "ipython3",
   "version": "3.11.2"
  }
 },
 "nbformat": 4,
 "nbformat_minor": 2
}
