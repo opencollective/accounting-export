{
 "cells": [
  {
   "cell_type": "code",
   "execution_count": null,
   "metadata": {},
   "outputs": [],
   "source": [
    "try:\n",
    "  df_platform\n",
    "  print(\"Data already loaded\")\n",
    "except NameError:\n",
    "  print(\"Loading data...\")\n",
    "  %run data.ipynb"
   ]
  },
  {
   "cell_type": "code",
   "execution_count": null,
   "metadata": {},
   "outputs": [],
   "source": [
    "import pandas as pd\n",
    "df_wise_reconciliation = df_wise.copy()\n",
    "df_wise_reconciliation = df_wise_reconciliation[df_wise_reconciliation['wise.status'] != 'funds_refunded']\n",
    "\n",
    "print(df_wise_reconciliation.info())\n",
    "df_wise_reconciliation.head()"
   ]
  },
  {
   "cell_type": "code",
   "execution_count": null,
   "metadata": {},
   "outputs": [],
   "source": [
    "df_platform_wise_related = df_platform[(df_platform['kind'] == 'EXPENSE') & (df_platform['payoutMethod.type'] == 'BANK_ACCOUNT') & (df_platform['type'] == 'DEBIT') & (df_platform['isRefunded'] == False)]\n",
    "print(df_platform_wise_related.info())\n",
    "df_platform_wise_related.head()"
   ]
  },
  {
   "cell_type": "code",
   "execution_count": null,
   "metadata": {},
   "outputs": [],
   "source": [
    "# merged_df = pd.merge(df_wise_reconciliation, df_platform_wise[['merchantId', 'id']].dropna(subset=['merchantId']).astype({'merchantId': 'int64'}), left_on='id', right_on='merchantId', how='left', suffixes=('', '_platform_transaction'))\n",
    "df_platform_wise = pd.merge(df_platform_wise_related.dropna(subset=['merchantId']).astype({'merchantId': 'int'}), df_wise_reconciliation, left_on='merchantId', right_on='wise.id', how='left').dropna(subset=['wise.id'])\n",
    "print('Successfully merged {} rows out of {}'.format(len(df_platform_wise), len(df_platform_wise_related)))\n",
    "df_left_platform = df_platform_wise_related[~df_platform_wise_related['id'].isin(df_platform_wise['id'])]\n",
    "df_left_wise = df_wise_reconciliation[~df_wise_reconciliation['wise.id'].isin(df_platform_wise['wise.id'])]\n",
    "\n",
    "from utils import matchByDateAndValue\n",
    "df_second_pass_wise = matchByDateAndValue(df_left_platform, ['createdAt', 'amountInHostCurrency.value'], df_left_wise, ['wise.created', 'wise.sourceValue'], timeDelta='2 days', valueDelta=0.05, absolute=True).dropna(subset=['df2key'])\n",
    "df_platform_wise = pd.concat([df_platform_wise, df_second_pass_wise.loc[:, df_second_pass_wise.columns!='df2key']], ignore_index=True)\n",
    "df_left_wise = df_wise_reconciliation[~df_wise_reconciliation['wise.id'].isin(df_platform_wise['wise.id'])]\n",
    "print('Successfully merged {} rows out of {} from Value and Date'.format(len(df_second_pass_wise), len(df_platform_wise_related)))\n",
    "\n",
    "print(f\"Platform transactions that have a corresponding Wise transaction: {len(df_platform_wise)}\")\n",
    "print(f\"Platform transactions without a corresponding Wise transaction: {len(df_left_platform)}\")\n",
    "print(f\"Percentage of Platform transactions that have a corresponding Wise transaction: {round(len(df_platform_wise)/len(df_platform_wise_related)*100, 2)}%\")\n",
    "print(f\"Wise transactions without a corresponding platform transaction: {len(df_left_wise)}\")\n",
    "print(f\"Percentage of Wise transactions that have a corresponding Platform transaction: {round(len(df_platform_wise)/len(df_wise_reconciliation)*100, 2)}%\")\n"
   ]
  },
  {
   "cell_type": "code",
   "execution_count": null,
   "metadata": {},
   "outputs": [],
   "source": [
    "df_second_pass_wise.head()"
   ]
  },
  {
   "cell_type": "code",
   "execution_count": null,
   "metadata": {},
   "outputs": [],
   "source": [
    "df_left_platform"
   ]
  },
  {
   "cell_type": "code",
   "execution_count": null,
   "metadata": {},
   "outputs": [],
   "source": [
    "pd.set_option('display.max_columns', None)\n",
    "pd.set_option('display.width', 200)\n",
    "WISE_TRACE_ACCOUNT = 'XXXXXX7206'\n",
    "df_banks2 = df_banks[df_banks['Detail'].str.contains(WISE_TRACE_ACCOUNT)]\n",
    "df_banks2.sample()\n"
   ]
  },
  {
   "cell_type": "code",
   "execution_count": null,
   "metadata": {},
   "outputs": [],
   "source": [
    "df_wise_bank = matchByDateAndValue(df_left_wise, ['wise.created', 'wise.sourceValue'], df_banks2, ['Post Date', 'Debit'] , '2 days', 0.05).dropna(subset=['df2key'])\n",
    "df_left_wise = df_left_wise[~df_left_wise['wise.id'].isin(df_wise_bank['wise.id'])]\n",
    "print(f\"Wise transactions with a corresponding Bank transaction: {len(df_wise_bank)}\")\n",
    "print(f\"Wise transactions without either a corresponding Platform transaction or a Bank transaction: {len(df_left_wise)} out of {len(df_wise_reconciliation)}\")\n",
    "print(f\"Percentage of Wise transactions that have a corresponding transaction either on the Platform or on the Bank: {round((len(df_wise_bank)+len(df_platform_wise))/len(df_wise_reconciliation)*100, 2)}%\")\n",
    "df_left_wise.head()"
   ]
  }
 ],
 "metadata": {
  "kernelspec": {
   "display_name": "ocenv",
   "language": "python",
   "name": "python3"
  },
  "language_info": {
   "codemirror_mode": {
    "name": "ipython",
    "version": 3
   },
   "file_extension": ".py",
   "mimetype": "text/x-python",
   "name": "python",
   "nbconvert_exporter": "python",
   "pygments_lexer": "ipython3",
   "version": "3.11.2"
  }
 },
 "nbformat": 4,
 "nbformat_minor": 2
}
