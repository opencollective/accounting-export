{
 "cells": [
  {
   "cell_type": "code",
   "execution_count": null,
   "metadata": {},
   "outputs": [],
   "source": [
    "try:\n",
    "  df_platform\n",
    "  print(\"Data already loaded\")\n",
    "except NameError:\n",
    "  print(\"Loading data...\")\n",
    "  %run data.ipynb"
   ]
  },
  {
   "cell_type": "code",
   "execution_count": null,
   "metadata": {},
   "outputs": [],
   "source": [
    "df_bank_reconciliation = df_banks.copy()\n",
    "df_bank_reconciliation.head()"
   ]
  },
  {
   "cell_type": "code",
   "execution_count": null,
   "metadata": {},
   "outputs": [],
   "source": [
    "df_platform_bank_related = df_platform[(df_platform['kind'] == 'CONTRIBUTION') | (df_platform['kind'] == 'EXPENSE') | (df_platform['kind'] == 'ADDED_FUNDS')]\n",
    "print(f\"{len(df_platform_bank_related)} bank related transactions out of {len(df_platform)} total transactions ({len(df_platform_bank_related)/len(df_platform)*100:.2f}%)\")"
   ]
  },
  {
   "cell_type": "code",
   "execution_count": null,
   "metadata": {},
   "outputs": [],
   "source": [
    "import pandas as pd\n",
    "from utils import matchByDateAndValue\n",
    "df_platform_bank_debits = matchByDateAndValue(df_platform_bank_related, ['createdAt', 'amountInHostCurrency.value'], df_bank_reconciliation, ['Post Date', 'Debit'] , '2 days', 0.05, True).dropna(subset=['df2key'])\n",
    "df_platform_bank_credits = matchByDateAndValue(df_platform_bank_related, ['createdAt', 'amountInHostCurrency.value'], df_bank_reconciliation, ['Post Date', 'Credit'] , '2 days', 0.05, True).dropna(subset=['df2key'])\n",
    "df_platform_bank = pd.concat([df_platform_bank_debits, df_platform_bank_credits])\n",
    "print('Successfully merged {} rows out of {} from Value and Date'.format(len(df_platform_bank), len(df_bank_reconciliation)))"
   ]
  },
  {
   "cell_type": "code",
   "execution_count": null,
   "metadata": {},
   "outputs": [],
   "source": [
    "df_left_bank = df_bank_reconciliation[~df_bank_reconciliation['index'].isin(df_platform_bank['index'])]\n",
    "df_payouts_bank = matchByDateAndValue(df_stripe_payouts, ['automatic_payout_effective_at_utc', 'net'], df_left_bank, ['Post Date', 'Credit'] , '2 days', 0.05, True).dropna(subset=['df2key'])\n",
    "df_left_bank = df_left_bank[~df_left_bank['index'].isin(df_payouts_bank['index'])]\n",
    "print('Successfully merged {} rows out of {} from payouts Value and Date'.format(len(df_payouts_bank), len(df_left_bank)))"
   ]
  }
 ],
 "metadata": {
  "kernelspec": {
   "display_name": "ocenv",
   "language": "python",
   "name": "python3"
  },
  "language_info": {
   "codemirror_mode": {
    "name": "ipython",
    "version": 3
   },
   "file_extension": ".py",
   "mimetype": "text/x-python",
   "name": "python",
   "nbconvert_exporter": "python",
   "pygments_lexer": "ipython3",
   "version": "3.11.2"
  }
 },
 "nbformat": 4,
 "nbformat_minor": 2
}
