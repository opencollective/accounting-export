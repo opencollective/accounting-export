{
 "cells": [
  {
   "cell_type": "code",
   "execution_count": null,
   "metadata": {},
   "outputs": [],
   "source": [
    "import pandas as pd\n",
    "import os\n",
    "\n",
    "stripe_reconciliation = pd.read_csv(os.path.join('reports', 'opensource', 'stripe_reconciliation.csv'))\n",
    "paypal_reconciliation = pd.read_csv(os.path.join('reports', 'opensource', 'paypal_reconciliation.csv'))\n",
    "wise_reconciliation = pd.read_csv(os.path.join('reports', 'opensource', 'wise_reconciliation.csv'))\n",
    "\n",
    "# all platform transactions from all_platform_transactions.csv\n",
    "all_platform_transactions = pd.read_csv(os.path.join('reports', 'opensource', 'all_platform_transactions.csv'))"
   ]
  },
  {
   "cell_type": "code",
   "execution_count": null,
   "metadata": {},
   "outputs": [],
   "source": [
    "# for stripe_reconciliation, paypal_reconciliation, wise_reconciliation change the column name of _reconciliation_category to stripe._reconciliation_category, paypal._reconciliation_category, wise._reconciliation_category\n",
    "stripe_reconciliation = stripe_reconciliation.rename(columns={'_reconciliation_category': 'stripe._reconciliation_category'})\n",
    "paypal_reconciliation = paypal_reconciliation.rename(columns={'_reconciliation_category': 'paypal._reconciliation_category'})\n",
    "wise_reconciliation = wise_reconciliation.rename(columns={'_reconciliation_category': 'wise._reconciliation_category'})"
   ]
  },
  {
   "cell_type": "code",
   "execution_count": null,
   "metadata": {},
   "outputs": [],
   "source": [
    "# join stripe, paypal, and wise reconciliations to all_platform_transactions, do not duplicate rows, drop columns with identical names\n",
    "all_platform_transactions_merged = all_platform_transactions.merge(stripe_reconciliation, on='id', how='left', suffixes=('', '_stripe'))\n",
    "all_platform_transactions_merged = all_platform_transactions_merged.merge(paypal_reconciliation, on='id', how='left', suffixes=('', '_paypal'))\n",
    "all_platform_transactions_merged = all_platform_transactions_merged.merge(wise_reconciliation, on='id', how='left', suffixes=('', '_wise'))"
   ]
  },
  {
   "cell_type": "code",
   "execution_count": null,
   "metadata": {},
   "outputs": [],
   "source": [
    "# add a new column called _reconciliation_category that is the concatenation of stripe._reconciliation_category, paypal._reconciliation_category, wise._reconciliation_category\n",
    "all_platform_transactions_merged['_reconciliation_category'] = all_platform_transactions_merged['stripe._reconciliation_category'].fillna('') + all_platform_transactions_merged['paypal._reconciliation_category'].fillna('') + all_platform_transactions_merged['wise._reconciliation_category'].fillna('')\n",
    "\n",
    "# drop stripe._reconciliation_category, paypal._reconciliation_category, wise._reconciliation_category\n",
    "all_platform_transactions_merged = all_platform_transactions_merged.drop(columns=['stripe._reconciliation_category', 'paypal._reconciliation_category', 'wise._reconciliation_category'])"
   ]
  },
  {
   "cell_type": "code",
   "execution_count": null,
   "metadata": {},
   "outputs": [],
   "source": [
    "# values count of _reconciliation_category\n",
    "print(all_platform_transactions_merged['_reconciliation_category'].value_counts())"
   ]
  },
  {
   "cell_type": "code",
   "execution_count": null,
   "metadata": {},
   "outputs": [],
   "source": [
    "# group by 'group' id\n",
    "grouped = all_platform_transactions_merged.groupby('group')\n",
    "\n",
    "# Define a custom function to count unique non-null and non-empty '_reconciliation_category' values\n",
    "def count_unique_non_null(series):\n",
    "    # Filter out null and empty strings, then return the length of unique values\n",
    "    return len(series[series != ''].dropna().unique())\n",
    "\n",
    "# Apply the custom function to each group for the '_reconciliation_category'\n",
    "unique_counts = grouped['_reconciliation_category'].agg(count_unique_non_null)\n",
    "\n",
    "# Classify based on unique counts\n",
    "reconciled_groups = unique_counts.index[unique_counts == 1].tolist()\n",
    "ambiguous_groups = unique_counts.index[unique_counts > 1].tolist()\n",
    "unreconciled_groups = unique_counts.index[unique_counts == 0].tolist()\n",
    "\n",
    "# Print results\n",
    "print('all groups:', len(grouped))\n",
    "print('reconciled_groups:', len(reconciled_groups))\n",
    "print('ambiguous_groups:', len(ambiguous_groups))\n",
    "print('unreconciled_groups:', len(unreconciled_groups))\n"
   ]
  },
  {
   "cell_type": "code",
   "execution_count": null,
   "metadata": {},
   "outputs": [],
   "source": [
    "reconciled_transactions = all_platform_transactions_merged[all_platform_transactions_merged['group'].isin(reconciled_groups)]\n",
    "ambiguous_transactions = all_platform_transactions_merged[all_platform_transactions_merged['group'].isin(ambiguous_groups)]\n",
    "unreconciled_transactions = all_platform_transactions_merged[all_platform_transactions_merged['group'].isin(unreconciled_groups)]"
   ]
  },
  {
   "cell_type": "code",
   "execution_count": null,
   "metadata": {},
   "outputs": [],
   "source": [
    "# Add reconciliation category to all transactions in reconciled groups\n",
    "\n",
    "# Step 1: Get the first non-empty category for each group\n",
    "first_non_empty_category = reconciled_transactions.groupby('group')['_reconciliation_category'].apply(\n",
    "    lambda x: next((item for item in x if item != ''), None)\n",
    ")\n",
    "\n",
    "# Step 2: Update '_reconciliation_category' in reconciled_transactions by mapping the groups to their first non-empty category\n",
    "reconciled_transactions['_reconciliation_category'] = reconciled_transactions['group'].map(first_non_empty_category)\n",
    "\n",
    "# Step 3: Update '_reconciliation_category' in all_platform_transactions_merged in a similar manner\n",
    "all_platform_transactions_merged['_reconciliation_category'] = all_platform_transactions_merged['group'].map(first_non_empty_category)"
   ]
  },
  {
   "cell_type": "code",
   "execution_count": null,
   "metadata": {},
   "outputs": [],
   "source": [
    "# Set the _reconciliation_category for all empty values in ambiguous_transactions to the value from the row in the group with the most recent createdAt date\n",
    "\n",
    "# Step 1: Sort transactions by 'group' and 'createdAt' to ensure the latest transaction comes first\n",
    "ambiguous_transactions_sorted = ambiguous_transactions.sort_values(by=['group', 'createdAt'], ascending=[True, False])\n",
    "\n",
    "# Identify the most recent non-empty '_reconciliation_category' for each group\n",
    "most_recent_category_by_group = ambiguous_transactions_sorted.groupby('group').apply(\n",
    "    lambda x: x.loc[x['_reconciliation_category'] != '']['_reconciliation_category'].iloc[0] if any(x['_reconciliation_category'] != '') else None\n",
    ").dropna()\n",
    "\n",
    "# Step 2: Update '_reconciliation_category' for transactions with an empty category using the most recent non-empty category found\n",
    "def update_category(row):\n",
    "    if row['_reconciliation_category'] == '':\n",
    "        return most_recent_category_by_group.get(row['group'], '')\n",
    "    return row['_reconciliation_category']\n",
    "\n",
    "ambiguous_transactions['_reconciliation_category'] = ambiguous_transactions.apply(update_category, axis=1)\n",
    "\n",
    "# update all_platform_transactions_merged with id from ambiguous_transactions with the updated _reconciliation_category\n",
    "all_platform_transactions_merged.update(ambiguous_transactions)"
   ]
  },
  {
   "cell_type": "code",
   "execution_count": null,
   "metadata": {},
   "outputs": [],
   "source": [
    "# values count of _reconciliation_category in ambiguous_transactions\n",
    "ambiguous_transactions['_reconciliation_category'].value_counts()"
   ]
  },
  {
   "cell_type": "code",
   "execution_count": null,
   "metadata": {},
   "outputs": [],
   "source": [
    "# list all columns in all_platform_transactions_merged that end with _stripe, _paypal or _wise\n",
    "stripe_duplicate_columns = [col for col in all_platform_transactions_merged.columns if col.endswith('_stripe')]\n",
    "paypal_duplicate_columns = [col for col in all_platform_transactions_merged.columns if col.endswith('_paypal')]\n",
    "wise_duplicate_columns = [col for col in all_platform_transactions_merged.columns if col.endswith('_wise')]"
   ]
  },
  {
   "cell_type": "code",
   "execution_count": null,
   "metadata": {},
   "outputs": [],
   "source": [
    "# drop all columns from stripe_duplicate_columns, paypal_duplicate_columns, wise_duplicate_columns from all_platform_transactions_merged\n",
    "all_platform_transactions_merged = all_platform_transactions_merged.drop(columns=stripe_duplicate_columns + paypal_duplicate_columns + wise_duplicate_columns)"
   ]
  },
  {
   "cell_type": "code",
   "execution_count": null,
   "metadata": {},
   "outputs": [],
   "source": [
    "# append prefix platform. to all columns that do not start with stripe. or paypal. or wise. or .bank or _reconciliation_category\n",
    "for col in all_platform_transactions_merged.columns:\n",
    "    if not col.startswith(('stripe.', 'paypal.', 'wise.', 'bank', '_reconciliation_category')):\n",
    "        all_platform_transactions_merged.rename(columns={col: 'platform.' + col}, inplace=True)"
   ]
  },
  {
   "cell_type": "code",
   "execution_count": null,
   "metadata": {},
   "outputs": [],
   "source": [
    "all_platform_transactions_merged = all_platform_transactions_merged[['_reconciliation_category'] + [col for col in all_platform_transactions_merged.columns if col != '_reconciliation_category']]"
   ]
  },
  {
   "cell_type": "code",
   "execution_count": null,
   "metadata": {},
   "outputs": [],
   "source": [
    "keep_columns = ['_reconciliation_category',\n",
    "'platform.createdAt',\n",
    "'platform.id',\n",
    "'platform.merchantId',\n",
    "'platform.group',\n",
    "'platform.type',\n",
    "'platform.kind',\n",
    "'platform.description',\n",
    "'platform.isRefunded',\n",
    "'platform.isRefund',\n",
    "'platform.isOrderRejected',\n",
    "'platform.amount.currency',\n",
    "'platform.amount.value',\n",
    "'platform.amountInHostCurrency.currency',\n",
    "'platform.amountInHostCurrency.value',\n",
    "'platform.netAmount.currency',\n",
    "'platform.netAmount.value',\n",
    "'platform.netAmountInHostCurrency.currency',\n",
    "'platform.netAmountInHostCurrency.value',\n",
    "'platform.paymentProcessorFee.currency',\n",
    "'platform.paymentProcessorFee.value',\n",
    "'platform.account.id',\n",
    "'platform.account.legacyId',\n",
    "'platform.account.name',\n",
    "'platform.account.slug',\n",
    "'platform.account.type',\n",
    "'platform.oppositeAccount.id',\n",
    "'platform.oppositeAccount.legacyId',\n",
    "'platform.oppositeAccount.name',\n",
    "'platform.oppositeAccount.slug',\n",
    "'platform.oppositeAccount.type',\n",
    "'platform.order.id',\n",
    "'platform.order.description',\n",
    "'platform.order.memo',\n",
    "'platform.paymentMethod.type',\n",
    "'platform.order',\n",
    "'platform.expense.id',\n",
    "'platform.expense.type',\n",
    "'platform.expense.description',\n",
    "'platform.expense.invoiceInfo',\n",
    "'platform.expense.tags',\n",
    "'platform.expense.virtualCard.id',\n",
    "'platform.expense.payee.id',\n",
    "'platform.expense.payee.name',\n",
    "'platform.expense.payee.slug',\n",
    "'platform.expense.payee.type',\n",
    "'platform.refundTransaction.id',\n",
    "'platform.payoutMethod.type',\n",
    "'stripe.balance_transaction_id',\n",
    "'stripe.created_utc',\n",
    "'stripe.created',\n",
    "'stripe.available_on_utc',\n",
    "'stripe.available_on',\n",
    "'stripe.currency',\n",
    "'stripe.gross',\n",
    "'stripe.fee',\n",
    "'stripe.net',\n",
    "'stripe.reporting_category',\n",
    "'stripe.source_id',\n",
    "'stripe.description',\n",
    "'stripe.customer_facing_amount',\n",
    "'stripe.customer_facing_currency',\n",
    "'stripe.automatic_payout_id',\n",
    "'stripe.automatic_payout_effective_at_utc',\n",
    "'stripe.automatic_payout_effective_at',\n",
    "'stripe.customer_id',\n",
    "'stripe.customer_description',\n",
    "'stripe.charge_id',\n",
    "'stripe.payment_intent_id',\n",
    "'stripe.charge_created_utc',\n",
    "'stripe.charge_created',\n",
    "'stripe.payment_method_type',\n",
    "'stripe.card_brand',\n",
    "'stripe.card_funding',\n",
    "'stripe.card_country',\n",
    "'stripe.payment_metadata[from]',\n",
    "'stripe.payment_metadata[to]',\n",
    "'paypal.Date',\n",
    "'paypal.Time',\n",
    "'paypal.TimeZone',\n",
    "'paypal.Name',\n",
    "'paypal.Type',\n",
    "'paypal.Status',\n",
    "'paypal.Currency',\n",
    "'paypal.Gross',\n",
    "'paypal.Fee',\n",
    "'paypal.Net',\n",
    "'paypal.From Email Address',\n",
    "'paypal.To Email Address',\n",
    "'paypal.Transaction ID',\n",
    "'paypal.Reference Txn ID',\n",
    "'paypal.Balance',\n",
    "'paypal.Contact Phone Number',\n",
    "'paypal.Subject',\n",
    "'paypal.Balance Impact',\n",
    "'paypal.Datetime',\n",
    "'wise.id',\n",
    "'wise.status',\n",
    "'wise.rate',\n",
    "'wise.created',\n",
    "'wise.details.reference',\n",
    "'wise.sourceCurrency',\n",
    "'wise.sourceValue',\n",
    "'wise.targetCurrency',\n",
    "'wise.targetValue']"
   ]
  },
  {
   "cell_type": "code",
   "execution_count": null,
   "metadata": {},
   "outputs": [],
   "source": [
    "# drop all columns from all_platform_transactions_merged that are not in keep_columns\n",
    "all_platform_transactions_merged = all_platform_transactions_merged[keep_columns]"
   ]
  },
  {
   "cell_type": "code",
   "execution_count": null,
   "metadata": {},
   "outputs": [],
   "source": [
    "# values count of _reconciliation_category including NaN\n",
    "print(all_platform_transactions_merged['_reconciliation_category'].value_counts(dropna=False))"
   ]
  },
  {
   "cell_type": "code",
   "execution_count": null,
   "metadata": {},
   "outputs": [],
   "source": [
    "# getting 3 random samples for each category\n",
    "\n",
    "samples = {}\n",
    "categories = [category for category in all_platform_transactions_merged['_reconciliation_category'].dropna().unique()]\n",
    "for category in categories:\n",
    "    # get all unique platform.group values for the category\n",
    "    groups = all_platform_transactions_merged[all_platform_transactions_merged['_reconciliation_category'] == category]['platform.group'].unique()\n",
    "    # get 10 random values from groups list\n",
    "    sample_groups = list(pd.Series(groups).sample(5))\n",
    "    # add a new dataframe to samples dictionary with key as category\n",
    "    samples[category] = all_platform_transactions_merged[all_platform_transactions_merged['platform.group'].isin(sample_groups)]"
   ]
  },
  {
   "cell_type": "code",
   "execution_count": null,
   "metadata": {},
   "outputs": [],
   "source": [
    "# join all in categories into a single dataframe\n",
    "all_samples = pd.concat(samples.values())"
   ]
  },
  {
   "cell_type": "code",
   "execution_count": null,
   "metadata": {},
   "outputs": [],
   "source": [
    "# count number of unique values in the platform.group column\n",
    "print(f'Unique groups in all samples: {all_samples[\"platform.group\"].nunique()}')"
   ]
  },
  {
   "cell_type": "code",
   "execution_count": null,
   "metadata": {},
   "outputs": [],
   "source": [
    "# get all unique values in the platform.refundTransaction.id column\n",
    "refund_ids = all_samples['platform.refundTransaction.id'].dropna().unique()\n",
    "\n",
    "# get all rows from all_platform_transactions_merged where platform.id is in refund_ids\n",
    "refund_transactions = all_platform_transactions_merged[all_platform_transactions_merged['platform.id'].isin(refund_ids)]\n",
    "\n",
    "# get all groups from refund_transactions   \n",
    "refund_groups = refund_transactions['platform.group'].unique()\n",
    "\n",
    "# get all rows from all_platform_transactions_merged where platform.group is in refund_groups\n",
    "original_transactions = all_platform_transactions_merged[all_platform_transactions_merged['platform.group'].isin(refund_groups)]"
   ]
  },
  {
   "cell_type": "code",
   "execution_count": null,
   "metadata": {},
   "outputs": [],
   "source": [
    "# concatenate original_transactions and all_samples into a single dataframe and drop duplicates\n",
    "all_transactions = pd.concat([original_transactions, all_samples]).drop_duplicates()\n",
    "\n",
    "# drop all rows that are duplicates in all_transactions on all columns except for _reconciliation_category\n",
    "all_transactions = all_transactions.drop_duplicates(subset=all_transactions.columns.difference(['_reconciliation_category']))\n",
    "\n",
    "# count number of unique values in the platform.group column\n",
    "print(f'Unique groups in all transactions: {all_transactions[\"platform.group\"].nunique()}')"
   ]
  },
  {
   "cell_type": "code",
   "execution_count": null,
   "metadata": {},
   "outputs": [],
   "source": [
    "# print all rows in all_samples\n",
    "pd.set_option('display.max_rows', None)\n",
    "# sort by platform.group\n",
    "final_samples = all_transactions.sort_values('platform.group')\n",
    "# pd show all columns\n",
    "pd.set_option('display.max_columns', None)"
   ]
  }
 ],
 "metadata": {
  "kernelspec": {
   "display_name": "base",
   "language": "python",
   "name": "python3"
  },
  "language_info": {
   "codemirror_mode": {
    "name": "ipython",
    "version": 3
   },
   "file_extension": ".py",
   "mimetype": "text/x-python",
   "name": "python",
   "nbconvert_exporter": "python",
   "pygments_lexer": "ipython3",
   "version": "3.11.5"
  }
 },
 "nbformat": 4,
 "nbformat_minor": 2
}
