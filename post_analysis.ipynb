{
 "cells": [
  {
   "cell_type": "code",
   "execution_count": 48,
   "metadata": {},
   "outputs": [
    {
     "name": "stderr",
     "output_type": "stream",
     "text": [
      "/var/folders/qf/j616b9d53yn77zcpky42s5r40000gn/T/ipykernel_4852/1817431379.py:4: DtypeWarning: Columns (29,30,31,32,33,34,35,36,37,39,44,46,48,50,52,54,56,58,59,60,61,62,64,65,66,67,68,69,72,73,75,77,78,79,81,82,83,84,85,86,87,92,93,94,98,99,102,103,105) have mixed types. Specify dtype option on import or set low_memory=False.\n",
      "  stripe_reconciliation = pd.read_csv(os.path.join('reports', 'opensource', 'stripe_reconciliation.csv'))\n",
      "/var/folders/qf/j616b9d53yn77zcpky42s5r40000gn/T/ipykernel_4852/1817431379.py:5: DtypeWarning: Columns (19,21,31,32,34,61,72,73,74,75,76,78,79,80,81,82,86,93,94,97,98,100) have mixed types. Specify dtype option on import or set low_memory=False.\n",
      "  paypal_reconciliation = pd.read_csv(os.path.join('reports', 'opensource', 'paypal_reconciliation.csv'))\n",
      "/var/folders/qf/j616b9d53yn77zcpky42s5r40000gn/T/ipykernel_4852/1817431379.py:9: DtypeWarning: Columns (31,41,42,48,49,50,51,52,53,54,55,56,57,58,62,63,64,65) have mixed types. Specify dtype option on import or set low_memory=False.\n",
      "  all_platform_transactions = pd.read_csv(os.path.join('reports', 'opensource', 'all_platform_transactions.csv'))\n"
     ]
    }
   ],
   "source": [
    "import pandas as pd\n",
    "import os\n",
    "\n",
    "stripe_reconciliation = pd.read_csv(os.path.join('reports', 'opensource', 'stripe_reconciliation.csv'))\n",
    "paypal_reconciliation = pd.read_csv(os.path.join('reports', 'opensource', 'paypal_reconciliation.csv'))\n",
    "wise_reconciliation = pd.read_csv(os.path.join('reports', 'opensource', 'wise_reconciliation.csv'))\n",
    "\n",
    "# all platform transactions from all_platform_transactions.csv\n",
    "all_platform_transactions = pd.read_csv(os.path.join('reports', 'opensource', 'all_platform_transactions.csv'))"
   ]
  },
  {
   "cell_type": "code",
   "execution_count": 49,
   "metadata": {},
   "outputs": [],
   "source": [
    "# for stripe_reconciliation, paypal_reconciliation, wise_reconciliation change the column name of _reconciliation_category to stripe._reconciliation_category, paypal._reconciliation_category, wise._reconciliation_category\n",
    "stripe_reconciliation = stripe_reconciliation.rename(columns={'_reconciliation_category': 'stripe._reconciliation_category'})\n",
    "paypal_reconciliation = paypal_reconciliation.rename(columns={'_reconciliation_category': 'paypal._reconciliation_category'})\n",
    "wise_reconciliation = wise_reconciliation.rename(columns={'_reconciliation_category': 'wise._reconciliation_category'})"
   ]
  },
  {
   "cell_type": "code",
   "execution_count": 50,
   "metadata": {},
   "outputs": [],
   "source": [
    "# join stripe, paypal, and wise reconciliations to all_platform_transactions, do not duplicate rows, drop columns with identical names\n",
    "all_platform_transactions_merged = all_platform_transactions.merge(stripe_reconciliation, on='id', how='left', suffixes=('', '_stripe'))\n",
    "all_platform_transactions_merged = all_platform_transactions_merged.merge(paypal_reconciliation, on='id', how='left', suffixes=('', '_paypal'))\n",
    "all_platform_transactions_merged = all_platform_transactions_merged.merge(wise_reconciliation, on='id', how='left', suffixes=('', '_wise'))"
   ]
  },
  {
   "cell_type": "code",
   "execution_count": 51,
   "metadata": {},
   "outputs": [],
   "source": [
    "# add a new column called _reconciliation_category that is the concatenation of stripe._reconciliation_category, paypal._reconciliation_category, wise._reconciliation_category\n",
    "all_platform_transactions_merged['_reconciliation_category'] = all_platform_transactions_merged['stripe._reconciliation_category'].fillna('') + all_platform_transactions_merged['paypal._reconciliation_category'].fillna('') + all_platform_transactions_merged['wise._reconciliation_category'].fillna('')\n",
    "\n",
    "# drop stripe._reconciliation_category, paypal._reconciliation_category, wise._reconciliation_category\n",
    "all_platform_transactions_merged = all_platform_transactions_merged.drop(columns=['stripe._reconciliation_category', 'paypal._reconciliation_category', 'wise._reconciliation_category'])"
   ]
  },
  {
   "cell_type": "code",
   "execution_count": 52,
   "metadata": {},
   "outputs": [
    {
     "name": "stdout",
     "output_type": "stream",
     "text": [
      "_reconciliation_category\n",
      "                                        648373\n",
      "stripe_platform_contributions           131332\n",
      "paypal_platform_contributions            58315\n",
      "wise_platform                             3403\n",
      "stripe_platform_virtual_card              2180\n",
      "paypal_platform_expenses                  1607\n",
      "stripe_platform_contrubution_refunds       432\n",
      "stripe_platform_disputes                    63\n",
      "Name: count, dtype: int64\n"
     ]
    }
   ],
   "source": [
    "# values count of _reconciliation_category\n",
    "print(all_platform_transactions_merged['_reconciliation_category'].value_counts())"
   ]
  },
  {
   "cell_type": "code",
   "execution_count": 53,
   "metadata": {},
   "outputs": [
    {
     "name": "stdout",
     "output_type": "stream",
     "text": [
      "all groups: 202466\n",
      "reconciled_groups: 196612\n",
      "ambiguous_groups: 245\n",
      "unreconciled_groups: 5609\n"
     ]
    }
   ],
   "source": [
    "# group by 'group' id\n",
    "grouped = all_platform_transactions_merged.groupby('group')\n",
    "\n",
    "# Define a custom function to count unique non-null and non-empty '_reconciliation_category' values\n",
    "def count_unique_non_null(series):\n",
    "    # Filter out null and empty strings, then return the length of unique values\n",
    "    return len(series[series != ''].dropna().unique())\n",
    "\n",
    "# Apply the custom function to each group for the '_reconciliation_category'\n",
    "unique_counts = grouped['_reconciliation_category'].agg(count_unique_non_null)\n",
    "\n",
    "# Classify based on unique counts\n",
    "reconciled_groups = unique_counts.index[unique_counts == 1].tolist()\n",
    "ambiguous_groups = unique_counts.index[unique_counts > 1].tolist()\n",
    "unreconciled_groups = unique_counts.index[unique_counts == 0].tolist()\n",
    "\n",
    "# Print results\n",
    "print('all groups:', len(grouped))\n",
    "print('reconciled_groups:', len(reconciled_groups))\n",
    "print('ambiguous_groups:', len(ambiguous_groups))\n",
    "print('unreconciled_groups:', len(unreconciled_groups))\n"
   ]
  },
  {
   "cell_type": "code",
   "execution_count": 54,
   "metadata": {},
   "outputs": [],
   "source": [
    "reconciled_transactions = all_platform_transactions_merged[all_platform_transactions_merged['group'].isin(reconciled_groups)]\n",
    "ambiguous_transactions = all_platform_transactions_merged[all_platform_transactions_merged['group'].isin(ambiguous_groups)]\n",
    "unreconciled_transactions = all_platform_transactions_merged[all_platform_transactions_merged['group'].isin(unreconciled_groups)]"
   ]
  },
  {
   "cell_type": "code",
   "execution_count": 55,
   "metadata": {},
   "outputs": [
    {
     "name": "stderr",
     "output_type": "stream",
     "text": [
      "/var/folders/qf/j616b9d53yn77zcpky42s5r40000gn/T/ipykernel_4852/3042063184.py:9: SettingWithCopyWarning: \n",
      "A value is trying to be set on a copy of a slice from a DataFrame.\n",
      "Try using .loc[row_indexer,col_indexer] = value instead\n",
      "\n",
      "See the caveats in the documentation: https://pandas.pydata.org/pandas-docs/stable/user_guide/indexing.html#returning-a-view-versus-a-copy\n",
      "  reconciled_transactions['_reconciliation_category'] = reconciled_transactions['group'].map(first_non_empty_category)\n"
     ]
    }
   ],
   "source": [
    "# Add reconciliation category to all transactions in reconciled groups\n",
    "\n",
    "# Step 1: Get the first non-empty category for each group\n",
    "first_non_empty_category = reconciled_transactions.groupby('group')['_reconciliation_category'].apply(\n",
    "    lambda x: next((item for item in x if item != ''), None)\n",
    ")\n",
    "\n",
    "# Step 2: Update '_reconciliation_category' in reconciled_transactions by mapping the groups to their first non-empty category\n",
    "reconciled_transactions['_reconciliation_category'] = reconciled_transactions['group'].map(first_non_empty_category)\n",
    "\n",
    "# Step 3: Update '_reconciliation_category' in all_platform_transactions_merged in a similar manner\n",
    "all_platform_transactions_merged['_reconciliation_category'] = all_platform_transactions_merged['group'].map(first_non_empty_category)"
   ]
  },
  {
   "cell_type": "code",
   "execution_count": 56,
   "metadata": {},
   "outputs": [
    {
     "name": "stderr",
     "output_type": "stream",
     "text": [
      "/var/folders/qf/j616b9d53yn77zcpky42s5r40000gn/T/ipykernel_4852/3266048009.py:17: SettingWithCopyWarning: \n",
      "A value is trying to be set on a copy of a slice from a DataFrame.\n",
      "Try using .loc[row_indexer,col_indexer] = value instead\n",
      "\n",
      "See the caveats in the documentation: https://pandas.pydata.org/pandas-docs/stable/user_guide/indexing.html#returning-a-view-versus-a-copy\n",
      "  ambiguous_transactions['_reconciliation_category'] = ambiguous_transactions.apply(update_category, axis=1)\n"
     ]
    }
   ],
   "source": [
    "# Set the _reconciliation_category for all empty values in ambiguous_transactions to the value from the row in the group with the most recent createdAt date\n",
    "\n",
    "# Step 1: Sort transactions by 'group' and 'createdAt' to ensure the latest transaction comes first\n",
    "ambiguous_transactions_sorted = ambiguous_transactions.sort_values(by=['group', 'createdAt'], ascending=[True, False])\n",
    "\n",
    "# Identify the most recent non-empty '_reconciliation_category' for each group\n",
    "most_recent_category_by_group = ambiguous_transactions_sorted.groupby('group').apply(\n",
    "    lambda x: x.loc[x['_reconciliation_category'] != '']['_reconciliation_category'].iloc[0] if any(x['_reconciliation_category'] != '') else None\n",
    ").dropna()\n",
    "\n",
    "# Step 2: Update '_reconciliation_category' for transactions with an empty category using the most recent non-empty category found\n",
    "def update_category(row):\n",
    "    if row['_reconciliation_category'] == '':\n",
    "        return most_recent_category_by_group.get(row['group'], '')\n",
    "    return row['_reconciliation_category']\n",
    "\n",
    "ambiguous_transactions['_reconciliation_category'] = ambiguous_transactions.apply(update_category, axis=1)\n",
    "\n",
    "# update all_platform_transactions_merged with id from ambiguous_transactions with the updated _reconciliation_category\n",
    "all_platform_transactions_merged.update(ambiguous_transactions)"
   ]
  },
  {
   "cell_type": "code",
   "execution_count": 57,
   "metadata": {},
   "outputs": [
    {
     "data": {
      "text/plain": [
       "_reconciliation_category\n",
       "stripe_platform_contributions           1477\n",
       "stripe_platform_contrubution_refunds     426\n",
       "stripe_platform_disputes                  37\n",
       "Name: count, dtype: int64"
      ]
     },
     "execution_count": 57,
     "metadata": {},
     "output_type": "execute_result"
    }
   ],
   "source": [
    "# values count of _reconciliation_category in ambiguous_transactions\n",
    "ambiguous_transactions['_reconciliation_category'].value_counts()"
   ]
  },
  {
   "cell_type": "code",
   "execution_count": 58,
   "metadata": {},
   "outputs": [],
   "source": [
    "# list all columns in all_platform_transactions_merged that end with _stripe, _paypal or _wise\n",
    "stripe_duplicate_columns = [col for col in all_platform_transactions_merged.columns if col.endswith('_stripe')]\n",
    "paypal_duplicate_columns = [col for col in all_platform_transactions_merged.columns if col.endswith('_paypal')]\n",
    "wise_duplicate_columns = [col for col in all_platform_transactions_merged.columns if col.endswith('_wise')]"
   ]
  },
  {
   "cell_type": "code",
   "execution_count": 59,
   "metadata": {},
   "outputs": [],
   "source": [
    "# drop all columns from stripe_duplicate_columns, paypal_duplicate_columns, wise_duplicate_columns from all_platform_transactions_merged\n",
    "all_platform_transactions_merged = all_platform_transactions_merged.drop(columns=stripe_duplicate_columns + paypal_duplicate_columns + wise_duplicate_columns)"
   ]
  },
  {
   "cell_type": "code",
   "execution_count": 60,
   "metadata": {},
   "outputs": [],
   "source": [
    "# append prefix platform. to all columns that do not start with stripe. or paypal. or wise. or .bank or _reconciliation_category\n",
    "for col in all_platform_transactions_merged.columns:\n",
    "    if not col.startswith(('stripe.', 'paypal.', 'wise.', 'bank', '_reconciliation_category')):\n",
    "        all_platform_transactions_merged.rename(columns={col: 'platform.' + col}, inplace=True)"
   ]
  },
  {
   "cell_type": "code",
   "execution_count": 61,
   "metadata": {},
   "outputs": [],
   "source": [
    "all_platform_transactions_merged = all_platform_transactions_merged[['_reconciliation_category'] + [col for col in all_platform_transactions_merged.columns if col != '_reconciliation_category']]"
   ]
  },
  {
   "cell_type": "code",
   "execution_count": 62,
   "metadata": {},
   "outputs": [],
   "source": [
    "keep_columns = ['_reconciliation_category',\n",
    "'platform.createdAt',\n",
    "'platform.id',\n",
    "'platform.merchantId',\n",
    "'platform.group',\n",
    "'platform.type',\n",
    "'platform.kind',\n",
    "'platform.description',\n",
    "'platform.isRefunded',\n",
    "'platform.isRefund',\n",
    "'platform.isOrderRejected',\n",
    "'platform.amount.currency',\n",
    "'platform.amount.value',\n",
    "'platform.amountInHostCurrency.currency',\n",
    "'platform.amountInHostCurrency.value',\n",
    "'platform.netAmount.currency',\n",
    "'platform.netAmount.value',\n",
    "'platform.netAmountInHostCurrency.currency',\n",
    "'platform.netAmountInHostCurrency.value',\n",
    "'platform.paymentProcessorFee.currency',\n",
    "'platform.paymentProcessorFee.value',\n",
    "'platform.account.id',\n",
    "'platform.account.legacyId',\n",
    "'platform.account.name',\n",
    "'platform.account.slug',\n",
    "'platform.account.type',\n",
    "'platform.oppositeAccount.id',\n",
    "'platform.oppositeAccount.legacyId',\n",
    "'platform.oppositeAccount.name',\n",
    "'platform.oppositeAccount.slug',\n",
    "'platform.oppositeAccount.type',\n",
    "'platform.order.id',\n",
    "'platform.order.description',\n",
    "'platform.order.memo',\n",
    "'platform.paymentMethod.type',\n",
    "'platform.order',\n",
    "'platform.expense.id',\n",
    "'platform.expense.type',\n",
    "'platform.expense.description',\n",
    "'platform.expense.invoiceInfo',\n",
    "'platform.expense.tags',\n",
    "'platform.expense.virtualCard.id',\n",
    "'platform.expense.payee.id',\n",
    "'platform.expense.payee.name',\n",
    "'platform.expense.payee.slug',\n",
    "'platform.expense.payee.type',\n",
    "'platform.refundTransaction.id',\n",
    "'platform.payoutMethod.type',\n",
    "'stripe.balance_transaction_id',\n",
    "'stripe.created_utc',\n",
    "'stripe.created',\n",
    "'stripe.available_on_utc',\n",
    "'stripe.available_on',\n",
    "'stripe.currency',\n",
    "'stripe.gross',\n",
    "'stripe.fee',\n",
    "'stripe.net',\n",
    "'stripe.reporting_category',\n",
    "'stripe.source_id',\n",
    "'stripe.description',\n",
    "'stripe.customer_facing_amount',\n",
    "'stripe.customer_facing_currency',\n",
    "'stripe.automatic_payout_id',\n",
    "'stripe.automatic_payout_effective_at_utc',\n",
    "'stripe.automatic_payout_effective_at',\n",
    "'stripe.customer_id',\n",
    "'stripe.customer_description',\n",
    "'stripe.charge_id',\n",
    "'stripe.payment_intent_id',\n",
    "'stripe.charge_created_utc',\n",
    "'stripe.charge_created',\n",
    "'stripe.payment_method_type',\n",
    "'stripe.card_brand',\n",
    "'stripe.card_funding',\n",
    "'stripe.card_country',\n",
    "'stripe.payment_metadata[from]',\n",
    "'stripe.payment_metadata[to]',\n",
    "'paypal.Date',\n",
    "'paypal.Time',\n",
    "'paypal.TimeZone',\n",
    "'paypal.Name',\n",
    "'paypal.Type',\n",
    "'paypal.Status',\n",
    "'paypal.Currency',\n",
    "'paypal.Gross',\n",
    "'paypal.Fee',\n",
    "'paypal.Net',\n",
    "'paypal.From Email Address',\n",
    "'paypal.To Email Address',\n",
    "'paypal.Transaction ID',\n",
    "'paypal.Reference Txn ID',\n",
    "'paypal.Balance',\n",
    "'paypal.Contact Phone Number',\n",
    "'paypal.Subject',\n",
    "'paypal.Balance Impact',\n",
    "'paypal.Datetime',\n",
    "'wise.id',\n",
    "'wise.status',\n",
    "'wise.rate',\n",
    "'wise.created',\n",
    "'wise.details.reference',\n",
    "'wise.sourceCurrency',\n",
    "'wise.sourceValue',\n",
    "'wise.targetCurrency',\n",
    "'wise.targetValue']"
   ]
  },
  {
   "cell_type": "code",
   "execution_count": 63,
   "metadata": {},
   "outputs": [],
   "source": [
    "# drop all columns from all_platform_transactions_merged that are not in keep_columns\n",
    "all_platform_transactions_merged = all_platform_transactions_merged[keep_columns]"
   ]
  },
  {
   "cell_type": "code",
   "execution_count": 64,
   "metadata": {},
   "outputs": [
    {
     "name": "stdout",
     "output_type": "stream",
     "text": [
      "_reconciliation_category\n",
      "stripe_platform_contributions           525361\n",
      "paypal_platform_contributions           291596\n",
      "NaN                                      20965\n",
      "wise_platform                             3403\n",
      "stripe_platform_virtual_card              2180\n",
      "paypal_platform_expenses                  1607\n",
      "stripe_platform_contrubution_refunds       447\n",
      "stripe_platform_disputes                   146\n",
      "Name: count, dtype: int64\n"
     ]
    }
   ],
   "source": [
    "# values count of _reconciliation_category including NaN\n",
    "print(all_platform_transactions_merged['_reconciliation_category'].value_counts(dropna=False))"
   ]
  },
  {
   "cell_type": "code",
   "execution_count": 65,
   "metadata": {},
   "outputs": [],
   "source": [
    "# getting 3 random samples for each category\n",
    "\n",
    "samples = {}\n",
    "categories = [category for category in all_platform_transactions_merged['_reconciliation_category'].dropna().unique()]\n",
    "for category in categories:\n",
    "    # get all unique platform.group values for the category\n",
    "    groups = all_platform_transactions_merged[all_platform_transactions_merged['_reconciliation_category'] == category]['platform.group'].unique()\n",
    "    # get 10 random values from groups list\n",
    "    sample_groups = list(pd.Series(groups).sample(5))\n",
    "    # add a new dataframe to samples dictionary with key as category\n",
    "    samples[category] = all_platform_transactions_merged[all_platform_transactions_merged['platform.group'].isin(sample_groups)]"
   ]
  },
  {
   "cell_type": "code",
   "execution_count": 66,
   "metadata": {},
   "outputs": [],
   "source": [
    "# join all in categories into a single dataframe\n",
    "all_samples = pd.concat(samples.values())"
   ]
  },
  {
   "cell_type": "code",
   "execution_count": 67,
   "metadata": {},
   "outputs": [
    {
     "name": "stdout",
     "output_type": "stream",
     "text": [
      "Unique groups in all samples: 35\n"
     ]
    }
   ],
   "source": [
    "# count number of unique values in the platform.group column\n",
    "print(f'Unique groups in all samples: {all_samples[\"platform.group\"].nunique()}')"
   ]
  },
  {
   "cell_type": "code",
   "execution_count": 68,
   "metadata": {},
   "outputs": [],
   "source": [
    "# get all unique values in the platform.refundTransaction.id column\n",
    "refund_ids = all_samples['platform.refundTransaction.id'].dropna().unique()\n",
    "\n",
    "# get all rows from all_platform_transactions_merged where platform.id is in refund_ids\n",
    "refund_transactions = all_platform_transactions_merged[all_platform_transactions_merged['platform.id'].isin(refund_ids)]\n",
    "\n",
    "# get all groups from refund_transactions   \n",
    "refund_groups = refund_transactions['platform.group'].unique()\n",
    "\n",
    "# get all rows from all_platform_transactions_merged where platform.group is in refund_groups\n",
    "original_transactions = all_platform_transactions_merged[all_platform_transactions_merged['platform.group'].isin(refund_groups)]"
   ]
  },
  {
   "cell_type": "code",
   "execution_count": 69,
   "metadata": {},
   "outputs": [
    {
     "name": "stdout",
     "output_type": "stream",
     "text": [
      "Unique groups in all transactions: 42\n"
     ]
    }
   ],
   "source": [
    "# concatenate original_transactions and all_samples into a single dataframe and drop duplicates\n",
    "all_transactions = pd.concat([original_transactions, all_samples]).drop_duplicates()\n",
    "\n",
    "# drop all rows that are duplicates in all_transactions on all columns except for _reconciliation_category\n",
    "all_transactions = all_transactions.drop_duplicates(subset=all_transactions.columns.difference(['_reconciliation_category']))\n",
    "\n",
    "# count number of unique values in the platform.group column\n",
    "print(f'Unique groups in all transactions: {all_transactions[\"platform.group\"].nunique()}')"
   ]
  },
  {
   "cell_type": "code",
   "execution_count": 71,
   "metadata": {},
   "outputs": [],
   "source": [
    "# print all rows in all_samples\n",
    "pd.set_option('display.max_rows', None)\n",
    "# sort by platform.group\n",
    "final_samples = all_transactions.sort_values('platform.group')\n",
    "# pd show all columns\n",
    "pd.set_option('display.max_columns', None)"
   ]
  }
 ],
 "metadata": {
  "kernelspec": {
   "display_name": "base",
   "language": "python",
   "name": "python3"
  },
  "language_info": {
   "codemirror_mode": {
    "name": "ipython",
    "version": 3
   },
   "file_extension": ".py",
   "mimetype": "text/x-python",
   "name": "python",
   "nbconvert_exporter": "python",
   "pygments_lexer": "ipython3",
   "version": "3.11.5"
  }
 },
 "nbformat": 4,
 "nbformat_minor": 2
}
