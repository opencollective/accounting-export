{
 "cells": [
  {
   "cell_type": "code",
   "execution_count": 1,
   "metadata": {},
   "outputs": [],
   "source": [
    "import pandas as pd\n",
    "import glob\n",
    "import requests\n",
    "import json\n",
    "import time"
   ]
  },
  {
   "cell_type": "code",
   "execution_count": 2,
   "metadata": {},
   "outputs": [],
   "source": [
    "# host variables\n",
    "host = 'opensource'\n",
    "dateFrom = '2022-12-31T22:59:59.999Z'\n",
    "dateTo = '2023-12-31T22:59:59.999Z'\n",
    "year = '2023'"
   ]
  },
  {
   "cell_type": "code",
   "execution_count": 20,
   "metadata": {},
   "outputs": [],
   "source": [
    "# load open collective data\n",
    "df_platform = pd.read_pickle(f'data/{host}/{year}/df_{host}_{year}_all_platform_transactions.pkl')\n",
    "\n",
    "# load stripe data\n",
    "df_stripe = pd.read_pickle(f'data/{host}/{year}/df_{host}_{year}_stripe_transactions.pkl')\n",
    "\n",
    "# load wise data\n",
    "df_wise = pd.read_pickle(f'data/{host}/{year}/df_{host}_{year}_wise_transactions.pkl')\n",
    "\n",
    "# load bank data\n",
    "dir = f'data/{host}/{year}/oscbank_1'\n",
    "df_bank_1 = pd.concat([pd.read_csv(f) for f in glob.glob(f'{dir}/*.csv')], ignore_index=True)\n",
    "df_bank_1 = df_bank_1.dropna(axis=1, how='all')\n",
    "\n",
    "dir = f'data/{host}/{year}/oscbank_2'\n",
    "df_bank_2 = pd.concat([pd.read_csv(f) for f in glob.glob(f'{dir}/*.csv')], ignore_index=True)\n",
    "df_bank_2 = df_bank_2.dropna(axis=1, how='all')"
   ]
  },
  {
   "cell_type": "code",
   "execution_count": 69,
   "metadata": {},
   "outputs": [],
   "source": [
    "chart_of_accounts_template = {\n",
    "    1001: \"Platform Settlement Fees\",\n",
    "    1010: \"Checking (Bank Account)\",\n",
    "    1040: \"Stripe Account (Asset)\",\n",
    "    1210: \"Payroll (Boundless)\",\n",
    "    2040: \"Donations and Grants Clearing Account\",\n",
    "    2250: \"Platform Tips Payable\",\n",
    "    3100: \"Unrestricted Net Assets\",\n",
    "    3200: \"Temporarily Restricted Net Assets\",\n",
    "    4010: \"Donations and Grants – Individuals\",\n",
    "    4020: \"Donations and Grants – Organizations\",\n",
    "    4030: \"Donations and Grants – Government\",\n",
    "    4040: \"Donations and Grants – Foundations\",\n",
    "    4130: \"Ticket Sales\",\n",
    "    7013: \"General Consulting\",\n",
    "    7021: \"Outgoing Grant\",\n",
    "    7311: \"Materials & Supplies\",\n",
    "    7312: \"Program Food & Groceries\",\n",
    "    7313: \"Program Transportation & Travel\",\n",
    "    7314: \"Mutual Aid\",\n",
    "    7315: \"Program Housing & Lodging\",\n",
    "    7321: \"Postage & Shipping\",\n",
    "    7322: \"Printing & Publication\",\n",
    "    7323: \"Venue Fees\",\n",
    "    7325: \"Professional Services\",\n",
    "    7331: \"Charitable Contributions\",\n",
    "    7332: \"Membership Dues\",\n",
    "    7333: \"Online Subscriptions\",\n",
    "    7334: \"Design Fees & Marketing\",\n",
    "    7341: \"Business Meals\",\n",
    "    7351: \"Rent & Lease\",\n",
    "    7352: \"Utilities\",\n",
    "    7353: \"Repairs & Maintenance\",\n",
    "    7361: \"Insurance\",\n",
    "    7372: \"Taxes & Licenses\",\n",
    "    7381: \"Equipment (purchase)\",\n",
    "    7382: \"Equipment (rental)\",\n",
    "    7391: \"Professional Developments\",\n",
    "    7392: \"Legal Services\",\n",
    "    7394: \"Cloud Computing Services\",\n",
    "    8600: \"Stripe Fee Expense\",\n",
    "    9100: \"Payroll Services\"\n",
    "}\n",
    "\n",
    "chart_of_accounts_osc = {\n",
    "    1001: \"Platform Settlement Fees\",\n",
    "}"
   ]
  }
 ],
 "metadata": {
  "kernelspec": {
   "display_name": "Python 3",
   "language": "python",
   "name": "python3"
  },
  "language_info": {
   "codemirror_mode": {
    "name": "ipython",
    "version": 3
   },
   "file_extension": ".py",
   "mimetype": "text/x-python",
   "name": "python",
   "nbconvert_exporter": "python",
   "pygments_lexer": "ipython3",
   "version": "3.11.1"
  }
 },
 "nbformat": 4,
 "nbformat_minor": 2
}
