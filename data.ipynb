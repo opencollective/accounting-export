{
 "cells": [
  {
   "cell_type": "markdown",
   "metadata": {},
   "source": [
    "# Loading Cached Data\n",
    "\n",
    "This file is responsible for loading locally cached data and to sanitize them."
   ]
  },
  {
   "cell_type": "code",
   "execution_count": null,
   "metadata": {},
   "outputs": [],
   "source": [
    "import pandas as pd\n",
    "import glob\n",
    "\n",
    "pd.set_option('display.max_columns', None)"
   ]
  },
  {
   "cell_type": "code",
   "execution_count": null,
   "metadata": {},
   "outputs": [],
   "source": [
    "# host variables\n",
    "host = 'opensource'\n",
    "dateFrom = '2022-12-31T22:59:59.999Z'\n",
    "dateTo = '2023-12-31T22:59:59.999Z'\n",
    "year = '2023'"
   ]
  },
  {
   "cell_type": "markdown",
   "metadata": {},
   "source": [
    "## Loading data sets"
   ]
  },
  {
   "cell_type": "code",
   "execution_count": null,
   "metadata": {},
   "outputs": [],
   "source": [
    "# load open collective data\n",
    "df_platform = pd.read_pickle(f'data/{host}/{year}/df_{host}_{year}_all_platform_transactions.pkl')\n",
    "\n",
    "# load stripe data\n",
    "df_stripe = pd.read_pickle(f'data/{host}/{year}/df_{host}_{year}_stripe_transactions.pkl')\n",
    "\n",
    "# load wise data\n",
    "df_wise = pd.read_pickle(f'data/{host}/{year}/df_{host}_{year}_wise_transactions.pkl')\n",
    "\n",
    "# load paypal data\n",
    "dir = f'data/{host}/{year}/paypal'\n",
    "df_paypal = pd.concat([pd.read_csv(f) for f in glob.glob(f'{dir}/*.csv')], ignore_index=True)\n",
    "df_paypal = df_paypal.dropna(axis=1, how='all')\n",
    "\n",
    "# load bank data\n",
    "dir = f'data/{host}/{year}/oscbank_1'\n",
    "df_bank_1 = pd.concat([pd.read_csv(f) for f in glob.glob(f'{dir}/*.csv')], ignore_index=True)\n",
    "df_bank_1 = df_bank_1.dropna(axis=1, how='all')\n",
    "\n",
    "dir = f'data/{host}/{year}/oscbank_2'\n",
    "df_bank_2 = pd.concat([pd.read_csv(f) for f in glob.glob(f'{dir}/*.csv')], ignore_index=True)\n",
    "df_bank_2 = df_bank_2.dropna(axis=1, how='all')\n"
   ]
  },
  {
   "cell_type": "markdown",
   "metadata": {},
   "source": [
    "## Sanitizing Data"
   ]
  },
  {
   "cell_type": "code",
   "execution_count": null,
   "metadata": {},
   "outputs": [],
   "source": [
    "# Fix Column Names\n",
    "df_bank_1.columns = df_bank_1.columns.str.strip()\n",
    "df_bank_2.columns = df_bank_1.columns.str.strip()\n",
    "\n",
    "# Dates\n",
    "df_platform['createdAt'] = pd.to_datetime(df_platform['createdAt']).dt.tz_convert(None)\n",
    "df_stripe['Created date (UTC)'] = pd.to_datetime(df_stripe['Created date (UTC)'], utc=True).dt.tz_convert(None)\n",
    "df_wise['created'] = pd.to_datetime(df_wise['created'], utc=True).dt.tz_convert(None)\n",
    "df_bank_1['Post Date'] = pd.to_datetime(df_bank_1['Post Date'], utc=True).dt.tz_convert(None)\n",
    "df_bank_2['Post Date'] = pd.to_datetime(df_bank_2['Post Date'], utc=True).dt.tz_convert(None)\n",
    "\n",
    "# Renaming Columns\n",
    "df_wise = df_wise.set_index('id', drop=False).rename_axis(None).add_prefix('wise.')\n",
    "df_stripe.rename(columns={'id': 'stripe.id'}, inplace=True)\n",
    "\n",
    "df_paypal['Net'] = df_paypal['Net'].replace(',', '', regex=True).astype(dtype=float)\n",
    "df_paypal['Gross'] = df_paypal['Gross'].replace(',', '', regex=True).astype(dtype=float)\n",
    "df_paypal['Fee'] = df_paypal['Fee'].replace(',', '', regex=True).astype(dtype=float)\n",
    "df_paypal['Balance'] = df_paypal['Balance'].replace(',', '', regex=True).astype(dtype=float)\n",
    "df_paypal['Note'] = df_paypal[~df_paypal['Note'].isna()]['Note'].str.replace(',', '')"
   ]
  },
  {
   "cell_type": "code",
   "execution_count": null,
   "metadata": {},
   "outputs": [],
   "source": [
    "import datetime\n",
    "df_paypal['Datetime'] = pd.to_datetime(df_paypal['Date'] + ' ' + df_paypal['Time'], utc=True)\n",
    "tz_offset = {\n",
    "    'PST': -8,\n",
    "    'PDT': -7,\n",
    "}\n",
    "\n",
    "def fix_tz(row):\n",
    "    tz=datetime.timezone(datetime.timedelta(hours=tz_offset[row['TimeZone']]))\n",
    "    row['Datetime'] = pd.to_datetime(row['Datetime'].replace(tzinfo=tz)).tz_convert(None)\n",
    "    return row\n",
    "    \n",
    "df_paypal = df_paypal.apply(fix_tz, axis=1)\n",
    "df_paypal.info()"
   ]
  },
  {
   "cell_type": "code",
   "execution_count": null,
   "metadata": {},
   "outputs": [],
   "source": [
    "df_platform['amountInHostCurrency.value'] = df_platform['amountInHostCurrency.valueInCents'] / 100"
   ]
  },
  {
   "cell_type": "markdown",
   "metadata": {},
   "source": [
    "## Filtering out Data"
   ]
  },
  {
   "cell_type": "code",
   "execution_count": null,
   "metadata": {},
   "outputs": [],
   "source": [
    "# remove failed and pending transactions from Stripe\n",
    "df_stripe = df_stripe[df_stripe['Status'] != 'Failed']\n",
    "df_stripe = df_stripe[df_stripe['Status'] != 'Pending']\n",
    "\n",
    "# only keep rows in paypal with status in ['Completed', 'Processed']\n",
    "# df_paypal = df_paypal[df_paypal['Status'].isin(['Completed', 'Processed'])]\n",
    "df_paypal = df_paypal[df_paypal['Balance Impact'] != 'Memo']\n",
    "\n",
    "# remove cancelled from Wise\n",
    "df_wise = df_wise[df_wise['wise.status'] != 'cancelled']"
   ]
  },
  {
   "cell_type": "markdown",
   "metadata": {},
   "source": [
    "# Combining"
   ]
  },
  {
   "cell_type": "code",
   "execution_count": null,
   "metadata": {},
   "outputs": [],
   "source": [
    "df_banks = pd.concat([df_bank_1, df_bank_2]).reset_index()"
   ]
  }
 ],
 "metadata": {
  "kernelspec": {
   "display_name": "Python 3",
   "language": "python",
   "name": "python3"
  },
  "language_info": {
   "codemirror_mode": {
    "name": "ipython",
    "version": 3
   },
   "file_extension": ".py",
   "mimetype": "text/x-python",
   "name": "python",
   "nbconvert_exporter": "python",
   "pygments_lexer": "ipython3",
   "version": "3.11.2"
  }
 },
 "nbformat": 4,
 "nbformat_minor": 2
}
